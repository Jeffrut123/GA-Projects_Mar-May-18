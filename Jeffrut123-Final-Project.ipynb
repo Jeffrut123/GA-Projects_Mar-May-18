{
 "cells": [
  {
   "cell_type": "markdown",
   "metadata": {},
   "source": [
    "# GA Data Science Final Project\n",
    "# Jeff Rutledge   May 8, 2018"
   ]
  },
  {
   "cell_type": "markdown",
   "metadata": {},
   "source": [
    "Data Dictionary - The data we use in our final project consists of two separate datasets, appended together.  The datasets include 1) \"Sustainalytics\" Environmental, Social & Governance (ESG) scoring system and 2) U.S. S&P 1500 stock price performance.  We describe these two components individually below. "
   ]
  },
  {
   "cell_type": "markdown",
   "metadata": {},
   "source": [
    "Sustainalytics ESG Scoring System.  Sustainalytics is a independent organization and application that my firm, Bessemer Trust, subscribes to.  Sustainalytics \"scores\" publicly traded companies reagrding their strategies and compliance with environmental, social, and governance (ESG) best-practices.  Sustainalytics scores each company with an overall ESG rating, individual \"E\", \"S\", and \"G\" scores, and ratings for several individual components with each \"E\", \"S\", and \"G\" category.  Each company and its respective ESG scores represent a single observation , while the ESG scores represent the model's features, or independent variables."
   ]
  },
  {
   "cell_type": "markdown",
   "metadata": {},
   "source": [
    "Stock Price Performance.  Our firm's equity portfolio teams utilize the FactSet Research Systems desktop application for all portfolio and risk management as well as company and industry analysis.  (This system is considered competitive with the Bloomberg Financial system.)  FactSet can interact with Microsoft Office applications, and we frequently download into spreadsheets myriad financial information ranging from stock price statistics through comprehensive individual-company SEC-reported financial statement information.  The specific dataset we will use here includes company names and stock tickers for all S&P 1500 companies and their respective stock price return information.  We also include \"relative stock price returns\" for each company.  (A stock's relative return refers to its performance versus the S&P 500.)  "
   ]
  },
  {
   "cell_type": "code",
   "execution_count": 1,
   "metadata": {},
   "outputs": [],
   "source": [
    "import pandas as pd\n",
    "import numpy as np\n",
    "import matplotlib.pyplot as plt\n",
    "import seaborn as sns"
   ]
  },
  {
   "cell_type": "code",
   "execution_count": 2,
   "metadata": {},
   "outputs": [],
   "source": [
    "esg = pd.read_csv('ESG_Sustainalytics_US_Primary 2015.csv')"
   ]
  },
  {
   "cell_type": "code",
   "execution_count": 3,
   "metadata": {},
   "outputs": [],
   "source": [
    "df_esg = pd.DataFrame(esg)"
   ]
  },
  {
   "cell_type": "code",
   "execution_count": 4,
   "metadata": {
    "scrolled": true
   },
   "outputs": [
    {
     "data": {
      "text/html": [
       "<div>\n",
       "<style scoped>\n",
       "    .dataframe tbody tr th:only-of-type {\n",
       "        vertical-align: middle;\n",
       "    }\n",
       "\n",
       "    .dataframe tbody tr th {\n",
       "        vertical-align: top;\n",
       "    }\n",
       "\n",
       "    .dataframe thead th {\n",
       "        text-align: right;\n",
       "    }\n",
       "</style>\n",
       "<table border=\"1\" class=\"dataframe\">\n",
       "  <thead>\n",
       "    <tr style=\"text-align: right;\">\n",
       "      <th></th>\n",
       "      <th>SYMBOL</th>\n",
       "      <th>DATE</th>\n",
       "      <th>SPX YE15</th>\n",
       "      <th>SPX YE17</th>\n",
       "      <th>SPX 15-17</th>\n",
       "      <th>SEDOL</th>\n",
       "      <th>TICKER-REGION</th>\n",
       "      <th>PRICE YE15</th>\n",
       "      <th>PRICE YE17</th>\n",
       "      <th>RETURN 15-17</th>\n",
       "      <th>...</th>\n",
       "      <th>E_PRODSERVICE_INCIDENTS</th>\n",
       "      <th>S_EMPLOYEE_INCIDENTS</th>\n",
       "      <th>S_SUPPLYCHAIN_INCIDENTS</th>\n",
       "      <th>S_CUSTOMER_INCIDENTS</th>\n",
       "      <th>S_COMMUNITY_INCIDENTS</th>\n",
       "      <th>G_BUSETHICS_INCIDENTS</th>\n",
       "      <th>G_GOVERNANCE_INCIDENTS</th>\n",
       "      <th>G_PUBLIC_POLICY_INCIDENTS</th>\n",
       "      <th>OLD_SYMBOL</th>\n",
       "      <th>CONTROVERSY_LEVEL</th>\n",
       "    </tr>\n",
       "  </thead>\n",
       "  <tbody>\n",
       "    <tr>\n",
       "      <th>0</th>\n",
       "      <td>2108601</td>\n",
       "      <td>20151231</td>\n",
       "      <td>\\t2,063.4</td>\n",
       "      <td>\\t2,673.6</td>\n",
       "      <td>0.3</td>\n",
       "      <td>210860</td>\n",
       "      <td>BA-US</td>\n",
       "      <td>\\t146.41</td>\n",
       "      <td>\\t294.91</td>\n",
       "      <td>\\t1.01</td>\n",
       "      <td>...</td>\n",
       "      <td>No Evidence of Controversy</td>\n",
       "      <td>Category 3</td>\n",
       "      <td>No Evidence of Controversy</td>\n",
       "      <td>Category 3</td>\n",
       "      <td>Category 3</td>\n",
       "      <td>Category 2</td>\n",
       "      <td>Category 2</td>\n",
       "      <td>No Evidence of Controversy</td>\n",
       "      <td>US0970231058</td>\n",
       "      <td>@NA</td>\n",
       "    </tr>\n",
       "    <tr>\n",
       "      <th>1</th>\n",
       "      <td>2089427</td>\n",
       "      <td>20151231</td>\n",
       "      <td>\\t2,063.4</td>\n",
       "      <td>\\t2,673.6</td>\n",
       "      <td>0.3</td>\n",
       "      <td>208942</td>\n",
       "      <td>BEAV-US</td>\n",
       "      <td>\\t42.92</td>\n",
       "      <td>NaN</td>\n",
       "      <td>\\t(1.00)</td>\n",
       "      <td>...</td>\n",
       "      <td>No Evidence of Controversy</td>\n",
       "      <td>No Evidence of Controversy</td>\n",
       "      <td>No Evidence of Controversy</td>\n",
       "      <td>Category 1</td>\n",
       "      <td>Category 1</td>\n",
       "      <td>Category 1</td>\n",
       "      <td>No Evidence of Controversy</td>\n",
       "      <td>No Evidence of Controversy</td>\n",
       "      <td>US0733021010</td>\n",
       "      <td>@NA</td>\n",
       "    </tr>\n",
       "    <tr>\n",
       "      <th>2</th>\n",
       "      <td>2767228</td>\n",
       "      <td>20151231</td>\n",
       "      <td>\\t2,063.4</td>\n",
       "      <td>\\t2,673.6</td>\n",
       "      <td>0.3</td>\n",
       "      <td>276722</td>\n",
       "      <td>COL-US</td>\n",
       "      <td>\\t93.27</td>\n",
       "      <td>\\t135.62</td>\n",
       "      <td>\\t0.45</td>\n",
       "      <td>...</td>\n",
       "      <td>No Evidence of Controversy</td>\n",
       "      <td>No Evidence of Controversy</td>\n",
       "      <td>No Evidence of Controversy</td>\n",
       "      <td>No Evidence of Controversy</td>\n",
       "      <td>No Evidence of Controversy</td>\n",
       "      <td>No Evidence of Controversy</td>\n",
       "      <td>No Evidence of Controversy</td>\n",
       "      <td>No Evidence of Controversy</td>\n",
       "      <td>US7743411016</td>\n",
       "      <td>@NA</td>\n",
       "    </tr>\n",
       "    <tr>\n",
       "      <th>3</th>\n",
       "      <td>2365161</td>\n",
       "      <td>20151231</td>\n",
       "      <td>\\t2,063.4</td>\n",
       "      <td>\\t2,673.6</td>\n",
       "      <td>0.3</td>\n",
       "      <td>236516</td>\n",
       "      <td>GD-US</td>\n",
       "      <td>\\t139.26</td>\n",
       "      <td>\\t203.45</td>\n",
       "      <td>\\t0.46</td>\n",
       "      <td>...</td>\n",
       "      <td>No Evidence of Controversy</td>\n",
       "      <td>Category 1</td>\n",
       "      <td>No Evidence of Controversy</td>\n",
       "      <td>No Evidence of Controversy</td>\n",
       "      <td>Category 1</td>\n",
       "      <td>No Evidence of Controversy</td>\n",
       "      <td>No Evidence of Controversy</td>\n",
       "      <td>No Evidence of Controversy</td>\n",
       "      <td>US3695501086</td>\n",
       "      <td>@NA</td>\n",
       "    </tr>\n",
       "    <tr>\n",
       "      <th>4</th>\n",
       "      <td>2020459</td>\n",
       "      <td>20151231</td>\n",
       "      <td>\\t2,063.4</td>\n",
       "      <td>\\t2,673.6</td>\n",
       "      <td>0.3</td>\n",
       "      <td>202045</td>\n",
       "      <td>HON-US</td>\n",
       "      <td>\\t103.87</td>\n",
       "      <td>\\t153.36</td>\n",
       "      <td>\\t0.48</td>\n",
       "      <td>...</td>\n",
       "      <td>No Evidence of Controversy</td>\n",
       "      <td>Category 2</td>\n",
       "      <td>No Evidence of Controversy</td>\n",
       "      <td>Category 3</td>\n",
       "      <td>Category 1</td>\n",
       "      <td>Category 1</td>\n",
       "      <td>No Evidence of Controversy</td>\n",
       "      <td>No Evidence of Controversy</td>\n",
       "      <td>US4385161066</td>\n",
       "      <td>@NA</td>\n",
       "    </tr>\n",
       "  </tbody>\n",
       "</table>\n",
       "<p>5 rows × 43 columns</p>\n",
       "</div>"
      ],
      "text/plain": [
       "    SYMBOL      DATE     SPX YE15     SPX YE17  SPX 15-17   SEDOL  \\\n",
       "0  2108601  20151231   \\t2,063.4    \\t2,673.6         0.3  210860   \n",
       "1  2089427  20151231   \\t2,063.4    \\t2,673.6         0.3  208942   \n",
       "2  2767228  20151231   \\t2,063.4    \\t2,673.6         0.3  276722   \n",
       "3  2365161  20151231   \\t2,063.4    \\t2,673.6         0.3  236516   \n",
       "4  2020459  20151231   \\t2,063.4    \\t2,673.6         0.3  202045   \n",
       "\n",
       "  TICKER-REGION  PRICE YE15  PRICE YE17 RETURN 15-17        ...          \\\n",
       "0         BA-US   \\t146.41    \\t294.91       \\t1.01         ...           \n",
       "1       BEAV-US    \\t42.92          NaN     \\t(1.00)        ...           \n",
       "2        COL-US    \\t93.27    \\t135.62       \\t0.45         ...           \n",
       "3         GD-US   \\t139.26    \\t203.45       \\t0.46         ...           \n",
       "4        HON-US   \\t103.87    \\t153.36       \\t0.48         ...           \n",
       "\n",
       "      E_PRODSERVICE_INCIDENTS        S_EMPLOYEE_INCIDENTS  \\\n",
       "0  No Evidence of Controversy                  Category 3   \n",
       "1  No Evidence of Controversy  No Evidence of Controversy   \n",
       "2  No Evidence of Controversy  No Evidence of Controversy   \n",
       "3  No Evidence of Controversy                  Category 1   \n",
       "4  No Evidence of Controversy                  Category 2   \n",
       "\n",
       "      S_SUPPLYCHAIN_INCIDENTS        S_CUSTOMER_INCIDENTS  \\\n",
       "0  No Evidence of Controversy                  Category 3   \n",
       "1  No Evidence of Controversy                  Category 1   \n",
       "2  No Evidence of Controversy  No Evidence of Controversy   \n",
       "3  No Evidence of Controversy  No Evidence of Controversy   \n",
       "4  No Evidence of Controversy                  Category 3   \n",
       "\n",
       "        S_COMMUNITY_INCIDENTS       G_BUSETHICS_INCIDENTS  \\\n",
       "0                  Category 3                  Category 2   \n",
       "1                  Category 1                  Category 1   \n",
       "2  No Evidence of Controversy  No Evidence of Controversy   \n",
       "3                  Category 1  No Evidence of Controversy   \n",
       "4                  Category 1                  Category 1   \n",
       "\n",
       "       G_GOVERNANCE_INCIDENTS   G_PUBLIC_POLICY_INCIDENTS    OLD_SYMBOL  \\\n",
       "0                  Category 2  No Evidence of Controversy  US0970231058   \n",
       "1  No Evidence of Controversy  No Evidence of Controversy  US0733021010   \n",
       "2  No Evidence of Controversy  No Evidence of Controversy  US7743411016   \n",
       "3  No Evidence of Controversy  No Evidence of Controversy  US3695501086   \n",
       "4  No Evidence of Controversy  No Evidence of Controversy  US4385161066   \n",
       "\n",
       "   CONTROVERSY_LEVEL  \n",
       "0                @NA  \n",
       "1                @NA  \n",
       "2                @NA  \n",
       "3                @NA  \n",
       "4                @NA  \n",
       "\n",
       "[5 rows x 43 columns]"
      ]
     },
     "execution_count": 4,
     "metadata": {},
     "output_type": "execute_result"
    }
   ],
   "source": [
    "df_esg.head()"
   ]
  },
  {
   "cell_type": "code",
   "execution_count": 5,
   "metadata": {},
   "outputs": [
    {
     "name": "stdout",
     "output_type": "stream",
     "text": [
      "<class 'pandas.core.frame.DataFrame'>\n",
      "RangeIndex: 987 entries, 0 to 986\n",
      "Data columns (total 43 columns):\n",
      "SYMBOL                       987 non-null object\n",
      "DATE                         987 non-null int64\n",
      "SPX YE15                     987 non-null object\n",
      "SPX YE17                     987 non-null object\n",
      "SPX 15-17                    987 non-null float64\n",
      "SEDOL                        987 non-null object\n",
      "TICKER-REGION                987 non-null object\n",
      "PRICE YE15                   987 non-null object\n",
      "PRICE YE17                   898 non-null object\n",
      "RETURN 15-17                 987 non-null object\n",
      "REL-RETURN                   987 non-null object\n",
      "ROE                          949 non-null object\n",
      "SECURITY NAME                987 non-null object\n",
      "NAME                         987 non-null object\n",
      "TICKER                       987 non-null object\n",
      "EXCHANGE                     987 non-null object\n",
      "PEER_GROUP                   987 non-null object\n",
      "REGION                       987 non-null object\n",
      "COUNTRY                      987 non-null object\n",
      "COMP_GROUP_AVG               0 non-null float64\n",
      "TOTAL_ESG_SCORE              987 non-null float64\n",
      "ENVIRONMENT_SCORE            987 non-null float64\n",
      "SOCIAL_SCORE                 987 non-null float64\n",
      "GOVERNANCE_SCORE             987 non-null float64\n",
      "TOTAL_ESG_PTILE              987 non-null float64\n",
      "ENVIRONMENT_PTILE            987 non-null float64\n",
      "SOCIAL_PTILE                 987 non-null float64\n",
      "GOVERNANCE_PTILE             987 non-null float64\n",
      "ENVIRONMENT_WEIGHT           987 non-null float64\n",
      "SOCIAL_WEIGHT                987 non-null float64\n",
      "GOVERNANCE_WEIGHT            987 non-null float64\n",
      "E_OPERATIONS_INCIDENTS       987 non-null object\n",
      "E_SUPPLYCHAIN_INCIDENTS      987 non-null object\n",
      "E_PRODSERVICE_INCIDENTS      987 non-null object\n",
      "S_EMPLOYEE_INCIDENTS         987 non-null object\n",
      "S_SUPPLYCHAIN_INCIDENTS      987 non-null object\n",
      "S_CUSTOMER_INCIDENTS         987 non-null object\n",
      "S_COMMUNITY_INCIDENTS        987 non-null object\n",
      "G_BUSETHICS_INCIDENTS        987 non-null object\n",
      "G_GOVERNANCE_INCIDENTS       987 non-null object\n",
      "G_PUBLIC_POLICY_INCIDENTS    987 non-null object\n",
      "OLD_SYMBOL                   987 non-null object\n",
      "CONTROVERSY_LEVEL            987 non-null object\n",
      "dtypes: float64(13), int64(1), object(29)\n",
      "memory usage: 331.6+ KB\n"
     ]
    }
   ],
   "source": [
    "df_esg.info()"
   ]
  },
  {
   "cell_type": "code",
   "execution_count": 6,
   "metadata": {},
   "outputs": [],
   "source": [
    "df_esg_sum = df_esg.drop(columns=['SYMBOL', 'SEDOL', 'TICKER-REGION', 'SECURITY NAME', 'EXCHANGE', 'REGION', 'COMP_GROUP_AVG', \n",
    "                                  'E_OPERATIONS_INCIDENTS', 'E_SUPPLYCHAIN_INCIDENTS', 'E_PRODSERVICE_INCIDENTS', 'S_EMPLOYEE_INCIDENTS', \n",
    "                                  'S_SUPPLYCHAIN_INCIDENTS', 'S_CUSTOMER_INCIDENTS', 'S_COMMUNITY_INCIDENTS', 'G_BUSETHICS_INCIDENTS', \n",
    "                                  'G_GOVERNANCE_INCIDENTS', 'G_PUBLIC_POLICY_INCIDENTS', 'OLD_SYMBOL', 'CONTROVERSY_LEVEL'])"
   ]
  },
  {
   "cell_type": "code",
   "execution_count": 7,
   "metadata": {},
   "outputs": [],
   "source": [
    "df_esg_sum = df_esg_sum.rename(columns = {'SPX YE15':'SPX15', 'SPX YE17':'SPX17', 'SPX 15-17':'SPX1517', 'PRICE YE15':'P15', \n",
    "                                          'PRICE YE17':'P17', 'RETURN 15-17':'RTN1517', 'REL-RETURN':'REL_RTN', \n",
    "                                          'ENVIRONMENT_SCORE':'E_SCORE', 'SOCIAL_SCORE':'S_SCORE', 'GOVERNANCE_SCORE':'G_SCORE', \n",
    "                                          'TOTAL_ESG_PTILE':'ESG_PTILE', 'ENVIRONMENT_PTILE':'E_PTILE', 'SOCIAL_PTILE':'S_PTILE', \n",
    "                                          'GOVERNANCE_PTILE':'G_PTILE', 'ENVIRONMENT_WEIGHT':'E_WT', 'SOCIAL_WEIGHT':'S_WT', 'GOVERNANCE_WEIGHT':'G_WT'})"
   ]
  },
  {
   "cell_type": "code",
   "execution_count": 8,
   "metadata": {},
   "outputs": [
    {
     "data": {
      "text/html": [
       "<div>\n",
       "<style scoped>\n",
       "    .dataframe tbody tr th:only-of-type {\n",
       "        vertical-align: middle;\n",
       "    }\n",
       "\n",
       "    .dataframe tbody tr th {\n",
       "        vertical-align: top;\n",
       "    }\n",
       "\n",
       "    .dataframe thead th {\n",
       "        text-align: right;\n",
       "    }\n",
       "</style>\n",
       "<table border=\"1\" class=\"dataframe\">\n",
       "  <thead>\n",
       "    <tr style=\"text-align: right;\">\n",
       "      <th></th>\n",
       "      <th>DATE</th>\n",
       "      <th>SPX15</th>\n",
       "      <th>SPX17</th>\n",
       "      <th>SPX1517</th>\n",
       "      <th>P15</th>\n",
       "      <th>P17</th>\n",
       "      <th>RTN1517</th>\n",
       "      <th>REL_RTN</th>\n",
       "      <th>ROE</th>\n",
       "      <th>NAME</th>\n",
       "      <th>...</th>\n",
       "      <th>E_SCORE</th>\n",
       "      <th>S_SCORE</th>\n",
       "      <th>G_SCORE</th>\n",
       "      <th>ESG_PTILE</th>\n",
       "      <th>E_PTILE</th>\n",
       "      <th>S_PTILE</th>\n",
       "      <th>G_PTILE</th>\n",
       "      <th>E_WT</th>\n",
       "      <th>S_WT</th>\n",
       "      <th>G_WT</th>\n",
       "    </tr>\n",
       "  </thead>\n",
       "  <tbody>\n",
       "    <tr>\n",
       "      <th>0</th>\n",
       "      <td>20151231</td>\n",
       "      <td>\\t2,063.4</td>\n",
       "      <td>\\t2,673.6</td>\n",
       "      <td>0.3</td>\n",
       "      <td>\\t146.41</td>\n",
       "      <td>\\t294.91</td>\n",
       "      <td>\\t1.01</td>\n",
       "      <td>\\t0.72</td>\n",
       "      <td>\\t46.22</td>\n",
       "      <td>The Boeing Company</td>\n",
       "      <td>...</td>\n",
       "      <td>62.0</td>\n",
       "      <td>45.0</td>\n",
       "      <td>59.0</td>\n",
       "      <td>25.64</td>\n",
       "      <td>56.41</td>\n",
       "      <td>12.82</td>\n",
       "      <td>10.26</td>\n",
       "      <td>0.35</td>\n",
       "      <td>0.35</td>\n",
       "      <td>0.3</td>\n",
       "    </tr>\n",
       "    <tr>\n",
       "      <th>1</th>\n",
       "      <td>20151231</td>\n",
       "      <td>\\t2,063.4</td>\n",
       "      <td>\\t2,673.6</td>\n",
       "      <td>0.3</td>\n",
       "      <td>\\t42.92</td>\n",
       "      <td>NaN</td>\n",
       "      <td>\\t(1.00)</td>\n",
       "      <td>\\t(1.30)</td>\n",
       "      <td>\\t4.41</td>\n",
       "      <td>BE Aerospace Inc.</td>\n",
       "      <td>...</td>\n",
       "      <td>40.0</td>\n",
       "      <td>44.0</td>\n",
       "      <td>59.0</td>\n",
       "      <td>2.56</td>\n",
       "      <td>0.00</td>\n",
       "      <td>7.69</td>\n",
       "      <td>10.26</td>\n",
       "      <td>0.35</td>\n",
       "      <td>0.35</td>\n",
       "      <td>0.3</td>\n",
       "    </tr>\n",
       "    <tr>\n",
       "      <th>2</th>\n",
       "      <td>20151231</td>\n",
       "      <td>\\t2,063.4</td>\n",
       "      <td>\\t2,673.6</td>\n",
       "      <td>0.3</td>\n",
       "      <td>\\t93.27</td>\n",
       "      <td>\\t135.62</td>\n",
       "      <td>\\t0.45</td>\n",
       "      <td>\\t0.16</td>\n",
       "      <td>\\t36.92</td>\n",
       "      <td>Rockwell Collins Inc.</td>\n",
       "      <td>...</td>\n",
       "      <td>70.0</td>\n",
       "      <td>66.0</td>\n",
       "      <td>75.0</td>\n",
       "      <td>76.92</td>\n",
       "      <td>82.05</td>\n",
       "      <td>79.49</td>\n",
       "      <td>82.05</td>\n",
       "      <td>0.35</td>\n",
       "      <td>0.35</td>\n",
       "      <td>0.3</td>\n",
       "    </tr>\n",
       "    <tr>\n",
       "      <th>3</th>\n",
       "      <td>20151231</td>\n",
       "      <td>\\t2,063.4</td>\n",
       "      <td>\\t2,673.6</td>\n",
       "      <td>0.3</td>\n",
       "      <td>\\t139.26</td>\n",
       "      <td>\\t203.45</td>\n",
       "      <td>\\t0.46</td>\n",
       "      <td>\\t0.17</td>\n",
       "      <td>\\t20.30</td>\n",
       "      <td>General Dynamics Corporation</td>\n",
       "      <td>...</td>\n",
       "      <td>54.0</td>\n",
       "      <td>51.0</td>\n",
       "      <td>60.0</td>\n",
       "      <td>25.64</td>\n",
       "      <td>30.77</td>\n",
       "      <td>25.64</td>\n",
       "      <td>15.38</td>\n",
       "      <td>0.35</td>\n",
       "      <td>0.35</td>\n",
       "      <td>0.3</td>\n",
       "    </tr>\n",
       "    <tr>\n",
       "      <th>4</th>\n",
       "      <td>20151231</td>\n",
       "      <td>\\t2,063.4</td>\n",
       "      <td>\\t2,673.6</td>\n",
       "      <td>0.3</td>\n",
       "      <td>\\t103.87</td>\n",
       "      <td>\\t153.36</td>\n",
       "      <td>\\t0.48</td>\n",
       "      <td>\\t0.18</td>\n",
       "      <td>\\t24.14</td>\n",
       "      <td>Honeywell International Inc.</td>\n",
       "      <td>...</td>\n",
       "      <td>50.0</td>\n",
       "      <td>54.0</td>\n",
       "      <td>74.0</td>\n",
       "      <td>38.46</td>\n",
       "      <td>20.51</td>\n",
       "      <td>35.90</td>\n",
       "      <td>79.49</td>\n",
       "      <td>0.35</td>\n",
       "      <td>0.35</td>\n",
       "      <td>0.3</td>\n",
       "    </tr>\n",
       "  </tbody>\n",
       "</table>\n",
       "<p>5 rows × 24 columns</p>\n",
       "</div>"
      ],
      "text/plain": [
       "       DATE        SPX15        SPX17  SPX1517         P15         P17  \\\n",
       "0  20151231   \\t2,063.4    \\t2,673.6       0.3   \\t146.41    \\t294.91    \n",
       "1  20151231   \\t2,063.4    \\t2,673.6       0.3    \\t42.92          NaN   \n",
       "2  20151231   \\t2,063.4    \\t2,673.6       0.3    \\t93.27    \\t135.62    \n",
       "3  20151231   \\t2,063.4    \\t2,673.6       0.3   \\t139.26    \\t203.45    \n",
       "4  20151231   \\t2,063.4    \\t2,673.6       0.3   \\t103.87    \\t153.36    \n",
       "\n",
       "     RTN1517    REL_RTN        ROE                          NAME  ...   \\\n",
       "0    \\t1.01     \\t0.72    \\t46.22             The Boeing Company  ...    \n",
       "1   \\t(1.00)   \\t(1.30)    \\t4.41              BE Aerospace Inc.  ...    \n",
       "2    \\t0.45     \\t0.16    \\t36.92          Rockwell Collins Inc.  ...    \n",
       "3    \\t0.46     \\t0.17    \\t20.30   General Dynamics Corporation  ...    \n",
       "4    \\t0.48     \\t0.18    \\t24.14   Honeywell International Inc.  ...    \n",
       "\n",
       "  E_SCORE S_SCORE G_SCORE  ESG_PTILE  E_PTILE  S_PTILE  G_PTILE  E_WT  S_WT  \\\n",
       "0    62.0    45.0    59.0      25.64    56.41    12.82    10.26  0.35  0.35   \n",
       "1    40.0    44.0    59.0       2.56     0.00     7.69    10.26  0.35  0.35   \n",
       "2    70.0    66.0    75.0      76.92    82.05    79.49    82.05  0.35  0.35   \n",
       "3    54.0    51.0    60.0      25.64    30.77    25.64    15.38  0.35  0.35   \n",
       "4    50.0    54.0    74.0      38.46    20.51    35.90    79.49  0.35  0.35   \n",
       "\n",
       "   G_WT  \n",
       "0   0.3  \n",
       "1   0.3  \n",
       "2   0.3  \n",
       "3   0.3  \n",
       "4   0.3  \n",
       "\n",
       "[5 rows x 24 columns]"
      ]
     },
     "execution_count": 8,
     "metadata": {},
     "output_type": "execute_result"
    }
   ],
   "source": [
    "df_esg_sum.head()"
   ]
  },
  {
   "cell_type": "code",
   "execution_count": 9,
   "metadata": {},
   "outputs": [],
   "source": [
    "df_esg_sum1 = df_esg_sum.replace(\"\\t\",\"\", regex=True)"
   ]
  },
  {
   "cell_type": "code",
   "execution_count": 10,
   "metadata": {},
   "outputs": [
    {
     "data": {
      "text/plain": [
       "(987, 24)"
      ]
     },
     "execution_count": 10,
     "metadata": {},
     "output_type": "execute_result"
    }
   ],
   "source": [
    "df_esg_sum1.shape"
   ]
  },
  {
   "cell_type": "code",
   "execution_count": 23,
   "metadata": {},
   "outputs": [
    {
     "data": {
      "text/plain": [
       "DATE                0\n",
       "SPX15               0\n",
       "SPX17               0\n",
       "SPX1517             0\n",
       "P15                 0\n",
       "P17                89\n",
       "RTN1517             0\n",
       "REL_RTN             0\n",
       "ROE                38\n",
       "NAME                0\n",
       "TICKER              0\n",
       "PEER_GROUP          0\n",
       "COUNTRY             0\n",
       "TOTAL_ESG_SCORE     0\n",
       "E_SCORE             0\n",
       "S_SCORE             0\n",
       "G_SCORE             0\n",
       "ESG_PTILE           0\n",
       "E_PTILE             0\n",
       "S_PTILE             0\n",
       "G_PTILE             0\n",
       "E_WT                0\n",
       "S_WT                0\n",
       "G_WT                0\n",
       "dtype: int64"
      ]
     },
     "execution_count": 23,
     "metadata": {},
     "output_type": "execute_result"
    }
   ],
   "source": [
    "df_esg_sum1.isnull().sum()"
   ]
  },
  {
   "cell_type": "code",
   "execution_count": 12,
   "metadata": {},
   "outputs": [],
   "source": [
    "df_esg_clean = df_esg_sum1.dropna()"
   ]
  },
  {
   "cell_type": "code",
   "execution_count": 13,
   "metadata": {},
   "outputs": [
    {
     "data": {
      "text/plain": [
       "DATE               0\n",
       "SPX15              0\n",
       "SPX17              0\n",
       "SPX1517            0\n",
       "P15                0\n",
       "P17                0\n",
       "RTN1517            0\n",
       "REL_RTN            0\n",
       "ROE                0\n",
       "NAME               0\n",
       "TICKER             0\n",
       "PEER_GROUP         0\n",
       "COUNTRY            0\n",
       "TOTAL_ESG_SCORE    0\n",
       "E_SCORE            0\n",
       "S_SCORE            0\n",
       "G_SCORE            0\n",
       "ESG_PTILE          0\n",
       "E_PTILE            0\n",
       "S_PTILE            0\n",
       "G_PTILE            0\n",
       "E_WT               0\n",
       "S_WT               0\n",
       "G_WT               0\n",
       "dtype: int64"
      ]
     },
     "execution_count": 13,
     "metadata": {},
     "output_type": "execute_result"
    }
   ],
   "source": [
    "df_esg_clean.isnull().sum()"
   ]
  },
  {
   "cell_type": "code",
   "execution_count": 14,
   "metadata": {},
   "outputs": [],
   "source": [
    "#df_esg_clean[\"REL_RTN\"] = df_esg_clean[\"REL_RTN\"].convert_objects(convert_numeric=True)\n",
    "#df_esg_clean[\"ROE\"] = df_esg_clean[\"ROE\"].convert_objects(convert_numeric=True)"
   ]
  },
  {
   "cell_type": "code",
   "execution_count": 15,
   "metadata": {},
   "outputs": [
    {
     "name": "stdout",
     "output_type": "stream",
     "text": [
      "<class 'pandas.core.frame.DataFrame'>\n",
      "Int64Index: 865 entries, 0 to 986\n",
      "Data columns (total 24 columns):\n",
      "DATE               865 non-null int64\n",
      "SPX15              865 non-null object\n",
      "SPX17              865 non-null object\n",
      "SPX1517            865 non-null float64\n",
      "P15                865 non-null object\n",
      "P17                865 non-null object\n",
      "RTN1517            865 non-null object\n",
      "REL_RTN            865 non-null object\n",
      "ROE                865 non-null object\n",
      "NAME               865 non-null object\n",
      "TICKER             865 non-null object\n",
      "PEER_GROUP         865 non-null object\n",
      "COUNTRY            865 non-null object\n",
      "TOTAL_ESG_SCORE    865 non-null float64\n",
      "E_SCORE            865 non-null float64\n",
      "S_SCORE            865 non-null float64\n",
      "G_SCORE            865 non-null float64\n",
      "ESG_PTILE          865 non-null float64\n",
      "E_PTILE            865 non-null float64\n",
      "S_PTILE            865 non-null float64\n",
      "G_PTILE            865 non-null float64\n",
      "E_WT               865 non-null float64\n",
      "S_WT               865 non-null float64\n",
      "G_WT               865 non-null float64\n",
      "dtypes: float64(12), int64(1), object(11)\n",
      "memory usage: 168.9+ KB\n"
     ]
    }
   ],
   "source": [
    "df_esg_clean.info()"
   ]
  },
  {
   "cell_type": "code",
   "execution_count": 47,
   "metadata": {},
   "outputs": [
    {
     "name": "stderr",
     "output_type": "stream",
     "text": [
      "/anaconda3/lib/python3.6/site-packages/pandas/core/generic.py:4619: SettingWithCopyWarning: \n",
      "A value is trying to be set on a copy of a slice from a DataFrame\n",
      "\n",
      "See the caveats in the documentation: http://pandas.pydata.org/pandas-docs/stable/indexing.html#indexing-view-versus-copy\n",
      "  self._update_inplace(new_data)\n"
     ]
    }
   ],
   "source": [
    "df_esg_clean['ROE'].replace('\\(','-', regex=True, inplace=True)\n",
    "df_esg_clean['ROE'].replace('\\)','', regex=True, inplace=True)\n",
    "df_esg_clean['ROE'].replace('\\ ','', regex=True, inplace=True)"
   ]
  },
  {
   "cell_type": "code",
   "execution_count": 52,
   "metadata": {},
   "outputs": [
    {
     "name": "stderr",
     "output_type": "stream",
     "text": [
      "/anaconda3/lib/python3.6/site-packages/pandas/core/generic.py:4619: SettingWithCopyWarning: \n",
      "A value is trying to be set on a copy of a slice from a DataFrame\n",
      "\n",
      "See the caveats in the documentation: http://pandas.pydata.org/pandas-docs/stable/indexing.html#indexing-view-versus-copy\n",
      "  self._update_inplace(new_data)\n"
     ]
    }
   ],
   "source": [
    "df_esg_clean['REL_RTN'].replace('\\(','-', regex=True, inplace=True)\n",
    "df_esg_clean['REL_RTN'].replace('\\)','', regex=True, inplace=True)\n",
    "df_esg_clean['REL_RTN'].replace('\\ ','', regex=True, inplace=True)"
   ]
  },
  {
   "cell_type": "code",
   "execution_count": 53,
   "metadata": {},
   "outputs": [
    {
     "data": {
      "text/html": [
       "<div>\n",
       "<style scoped>\n",
       "    .dataframe tbody tr th:only-of-type {\n",
       "        vertical-align: middle;\n",
       "    }\n",
       "\n",
       "    .dataframe tbody tr th {\n",
       "        vertical-align: top;\n",
       "    }\n",
       "\n",
       "    .dataframe thead th {\n",
       "        text-align: right;\n",
       "    }\n",
       "</style>\n",
       "<table border=\"1\" class=\"dataframe\">\n",
       "  <thead>\n",
       "    <tr style=\"text-align: right;\">\n",
       "      <th></th>\n",
       "      <th>DATE</th>\n",
       "      <th>SPX15</th>\n",
       "      <th>SPX17</th>\n",
       "      <th>SPX1517</th>\n",
       "      <th>P15</th>\n",
       "      <th>P17</th>\n",
       "      <th>RTN1517</th>\n",
       "      <th>REL_RTN</th>\n",
       "      <th>ROE</th>\n",
       "      <th>NAME</th>\n",
       "      <th>...</th>\n",
       "      <th>S_SCORE</th>\n",
       "      <th>G_SCORE</th>\n",
       "      <th>ESG_PTILE</th>\n",
       "      <th>E_PTILE</th>\n",
       "      <th>S_PTILE</th>\n",
       "      <th>G_PTILE</th>\n",
       "      <th>E_WT</th>\n",
       "      <th>S_WT</th>\n",
       "      <th>G_WT</th>\n",
       "      <th>ROE_clean</th>\n",
       "    </tr>\n",
       "  </thead>\n",
       "  <tbody>\n",
       "    <tr>\n",
       "      <th>0</th>\n",
       "      <td>20151231</td>\n",
       "      <td>2,063.4</td>\n",
       "      <td>2,673.6</td>\n",
       "      <td>0.3</td>\n",
       "      <td>146.41</td>\n",
       "      <td>294.91</td>\n",
       "      <td>1.01</td>\n",
       "      <td>0.72</td>\n",
       "      <td>46.22</td>\n",
       "      <td>The Boeing Company</td>\n",
       "      <td>...</td>\n",
       "      <td>45.0</td>\n",
       "      <td>59.0</td>\n",
       "      <td>25.64</td>\n",
       "      <td>56.41</td>\n",
       "      <td>12.82</td>\n",
       "      <td>10.26</td>\n",
       "      <td>0.35</td>\n",
       "      <td>0.35</td>\n",
       "      <td>0.3</td>\n",
       "      <td>46.22</td>\n",
       "    </tr>\n",
       "    <tr>\n",
       "      <th>2</th>\n",
       "      <td>20151231</td>\n",
       "      <td>2,063.4</td>\n",
       "      <td>2,673.6</td>\n",
       "      <td>0.3</td>\n",
       "      <td>93.27</td>\n",
       "      <td>135.62</td>\n",
       "      <td>0.45</td>\n",
       "      <td>0.16</td>\n",
       "      <td>36.92</td>\n",
       "      <td>Rockwell Collins Inc.</td>\n",
       "      <td>...</td>\n",
       "      <td>66.0</td>\n",
       "      <td>75.0</td>\n",
       "      <td>76.92</td>\n",
       "      <td>82.05</td>\n",
       "      <td>79.49</td>\n",
       "      <td>82.05</td>\n",
       "      <td>0.35</td>\n",
       "      <td>0.35</td>\n",
       "      <td>0.3</td>\n",
       "      <td>36.92</td>\n",
       "    </tr>\n",
       "    <tr>\n",
       "      <th>3</th>\n",
       "      <td>20151231</td>\n",
       "      <td>2,063.4</td>\n",
       "      <td>2,673.6</td>\n",
       "      <td>0.3</td>\n",
       "      <td>139.26</td>\n",
       "      <td>203.45</td>\n",
       "      <td>0.46</td>\n",
       "      <td>0.17</td>\n",
       "      <td>20.30</td>\n",
       "      <td>General Dynamics Corporation</td>\n",
       "      <td>...</td>\n",
       "      <td>51.0</td>\n",
       "      <td>60.0</td>\n",
       "      <td>25.64</td>\n",
       "      <td>30.77</td>\n",
       "      <td>25.64</td>\n",
       "      <td>15.38</td>\n",
       "      <td>0.35</td>\n",
       "      <td>0.35</td>\n",
       "      <td>0.3</td>\n",
       "      <td>20.30</td>\n",
       "    </tr>\n",
       "    <tr>\n",
       "      <th>4</th>\n",
       "      <td>20151231</td>\n",
       "      <td>2,063.4</td>\n",
       "      <td>2,673.6</td>\n",
       "      <td>0.3</td>\n",
       "      <td>103.87</td>\n",
       "      <td>153.36</td>\n",
       "      <td>0.48</td>\n",
       "      <td>0.18</td>\n",
       "      <td>24.14</td>\n",
       "      <td>Honeywell International Inc.</td>\n",
       "      <td>...</td>\n",
       "      <td>54.0</td>\n",
       "      <td>74.0</td>\n",
       "      <td>38.46</td>\n",
       "      <td>20.51</td>\n",
       "      <td>35.90</td>\n",
       "      <td>79.49</td>\n",
       "      <td>0.35</td>\n",
       "      <td>0.35</td>\n",
       "      <td>0.3</td>\n",
       "      <td>24.14</td>\n",
       "    </tr>\n",
       "    <tr>\n",
       "      <th>5</th>\n",
       "      <td>20151231</td>\n",
       "      <td>2,063.4</td>\n",
       "      <td>2,673.6</td>\n",
       "      <td>0.3</td>\n",
       "      <td>30.90</td>\n",
       "      <td>68.25</td>\n",
       "      <td>1.21</td>\n",
       "      <td>0.91</td>\n",
       "      <td>3.25</td>\n",
       "      <td>KLX Inc.</td>\n",
       "      <td>...</td>\n",
       "      <td>43.0</td>\n",
       "      <td>66.0</td>\n",
       "      <td>5.13</td>\n",
       "      <td>7.69</td>\n",
       "      <td>0.00</td>\n",
       "      <td>53.85</td>\n",
       "      <td>0.35</td>\n",
       "      <td>0.35</td>\n",
       "      <td>0.3</td>\n",
       "      <td>3.25</td>\n",
       "    </tr>\n",
       "  </tbody>\n",
       "</table>\n",
       "<p>5 rows × 25 columns</p>\n",
       "</div>"
      ],
      "text/plain": [
       "       DATE      SPX15      SPX17  SPX1517       P15       P17 RTN1517  \\\n",
       "0  20151231   2,063.4    2,673.6       0.3   146.41    294.91    1.01    \n",
       "2  20151231   2,063.4    2,673.6       0.3    93.27    135.62    0.45    \n",
       "3  20151231   2,063.4    2,673.6       0.3   139.26    203.45    0.46    \n",
       "4  20151231   2,063.4    2,673.6       0.3   103.87    153.36    0.48    \n",
       "5  20151231   2,063.4    2,673.6       0.3    30.90     68.25    1.21    \n",
       "\n",
       "  REL_RTN    ROE                          NAME    ...     S_SCORE G_SCORE  \\\n",
       "0    0.72  46.22            The Boeing Company    ...        45.0    59.0   \n",
       "2    0.16  36.92         Rockwell Collins Inc.    ...        66.0    75.0   \n",
       "3    0.17  20.30  General Dynamics Corporation    ...        51.0    60.0   \n",
       "4    0.18  24.14  Honeywell International Inc.    ...        54.0    74.0   \n",
       "5    0.91   3.25                      KLX Inc.    ...        43.0    66.0   \n",
       "\n",
       "  ESG_PTILE  E_PTILE  S_PTILE  G_PTILE  E_WT  S_WT  G_WT  ROE_clean  \n",
       "0     25.64    56.41    12.82    10.26  0.35  0.35   0.3     46.22   \n",
       "2     76.92    82.05    79.49    82.05  0.35  0.35   0.3     36.92   \n",
       "3     25.64    30.77    25.64    15.38  0.35  0.35   0.3     20.30   \n",
       "4     38.46    20.51    35.90    79.49  0.35  0.35   0.3     24.14   \n",
       "5      5.13     7.69     0.00    53.85  0.35  0.35   0.3      3.25   \n",
       "\n",
       "[5 rows x 25 columns]"
      ]
     },
     "execution_count": 53,
     "metadata": {},
     "output_type": "execute_result"
    }
   ],
   "source": [
    "df_esg_clean.head()"
   ]
  },
  {
   "cell_type": "code",
   "execution_count": 54,
   "metadata": {},
   "outputs": [
    {
     "data": {
      "text/html": [
       "<div>\n",
       "<style scoped>\n",
       "    .dataframe tbody tr th:only-of-type {\n",
       "        vertical-align: middle;\n",
       "    }\n",
       "\n",
       "    .dataframe tbody tr th {\n",
       "        vertical-align: top;\n",
       "    }\n",
       "\n",
       "    .dataframe thead th {\n",
       "        text-align: right;\n",
       "    }\n",
       "</style>\n",
       "<table border=\"1\" class=\"dataframe\">\n",
       "  <thead>\n",
       "    <tr style=\"text-align: right;\">\n",
       "      <th></th>\n",
       "      <th>DATE</th>\n",
       "      <th>SPX15</th>\n",
       "      <th>SPX17</th>\n",
       "      <th>SPX1517</th>\n",
       "      <th>P15</th>\n",
       "      <th>P17</th>\n",
       "      <th>RTN1517</th>\n",
       "      <th>REL_RTN</th>\n",
       "      <th>ROE</th>\n",
       "      <th>NAME</th>\n",
       "      <th>...</th>\n",
       "      <th>S_SCORE</th>\n",
       "      <th>G_SCORE</th>\n",
       "      <th>ESG_PTILE</th>\n",
       "      <th>E_PTILE</th>\n",
       "      <th>S_PTILE</th>\n",
       "      <th>G_PTILE</th>\n",
       "      <th>E_WT</th>\n",
       "      <th>S_WT</th>\n",
       "      <th>G_WT</th>\n",
       "      <th>ROE_clean</th>\n",
       "    </tr>\n",
       "  </thead>\n",
       "  <tbody>\n",
       "    <tr>\n",
       "      <th>0</th>\n",
       "      <td>20151231</td>\n",
       "      <td>2,063.4</td>\n",
       "      <td>2,673.6</td>\n",
       "      <td>0.3</td>\n",
       "      <td>146.41</td>\n",
       "      <td>294.91</td>\n",
       "      <td>1.01</td>\n",
       "      <td>0.72</td>\n",
       "      <td>46.22</td>\n",
       "      <td>The Boeing Company</td>\n",
       "      <td>...</td>\n",
       "      <td>45.0</td>\n",
       "      <td>59.0</td>\n",
       "      <td>25.64</td>\n",
       "      <td>56.41</td>\n",
       "      <td>12.82</td>\n",
       "      <td>10.26</td>\n",
       "      <td>0.35</td>\n",
       "      <td>0.35</td>\n",
       "      <td>0.3</td>\n",
       "      <td>46.22</td>\n",
       "    </tr>\n",
       "    <tr>\n",
       "      <th>2</th>\n",
       "      <td>20151231</td>\n",
       "      <td>2,063.4</td>\n",
       "      <td>2,673.6</td>\n",
       "      <td>0.3</td>\n",
       "      <td>93.27</td>\n",
       "      <td>135.62</td>\n",
       "      <td>0.45</td>\n",
       "      <td>0.16</td>\n",
       "      <td>36.92</td>\n",
       "      <td>Rockwell Collins Inc.</td>\n",
       "      <td>...</td>\n",
       "      <td>66.0</td>\n",
       "      <td>75.0</td>\n",
       "      <td>76.92</td>\n",
       "      <td>82.05</td>\n",
       "      <td>79.49</td>\n",
       "      <td>82.05</td>\n",
       "      <td>0.35</td>\n",
       "      <td>0.35</td>\n",
       "      <td>0.3</td>\n",
       "      <td>36.92</td>\n",
       "    </tr>\n",
       "    <tr>\n",
       "      <th>3</th>\n",
       "      <td>20151231</td>\n",
       "      <td>2,063.4</td>\n",
       "      <td>2,673.6</td>\n",
       "      <td>0.3</td>\n",
       "      <td>139.26</td>\n",
       "      <td>203.45</td>\n",
       "      <td>0.46</td>\n",
       "      <td>0.17</td>\n",
       "      <td>20.30</td>\n",
       "      <td>General Dynamics Corporation</td>\n",
       "      <td>...</td>\n",
       "      <td>51.0</td>\n",
       "      <td>60.0</td>\n",
       "      <td>25.64</td>\n",
       "      <td>30.77</td>\n",
       "      <td>25.64</td>\n",
       "      <td>15.38</td>\n",
       "      <td>0.35</td>\n",
       "      <td>0.35</td>\n",
       "      <td>0.3</td>\n",
       "      <td>20.30</td>\n",
       "    </tr>\n",
       "    <tr>\n",
       "      <th>4</th>\n",
       "      <td>20151231</td>\n",
       "      <td>2,063.4</td>\n",
       "      <td>2,673.6</td>\n",
       "      <td>0.3</td>\n",
       "      <td>103.87</td>\n",
       "      <td>153.36</td>\n",
       "      <td>0.48</td>\n",
       "      <td>0.18</td>\n",
       "      <td>24.14</td>\n",
       "      <td>Honeywell International Inc.</td>\n",
       "      <td>...</td>\n",
       "      <td>54.0</td>\n",
       "      <td>74.0</td>\n",
       "      <td>38.46</td>\n",
       "      <td>20.51</td>\n",
       "      <td>35.90</td>\n",
       "      <td>79.49</td>\n",
       "      <td>0.35</td>\n",
       "      <td>0.35</td>\n",
       "      <td>0.3</td>\n",
       "      <td>24.14</td>\n",
       "    </tr>\n",
       "    <tr>\n",
       "      <th>5</th>\n",
       "      <td>20151231</td>\n",
       "      <td>2,063.4</td>\n",
       "      <td>2,673.6</td>\n",
       "      <td>0.3</td>\n",
       "      <td>30.90</td>\n",
       "      <td>68.25</td>\n",
       "      <td>1.21</td>\n",
       "      <td>0.91</td>\n",
       "      <td>3.25</td>\n",
       "      <td>KLX Inc.</td>\n",
       "      <td>...</td>\n",
       "      <td>43.0</td>\n",
       "      <td>66.0</td>\n",
       "      <td>5.13</td>\n",
       "      <td>7.69</td>\n",
       "      <td>0.00</td>\n",
       "      <td>53.85</td>\n",
       "      <td>0.35</td>\n",
       "      <td>0.35</td>\n",
       "      <td>0.3</td>\n",
       "      <td>3.25</td>\n",
       "    </tr>\n",
       "  </tbody>\n",
       "</table>\n",
       "<p>5 rows × 25 columns</p>\n",
       "</div>"
      ],
      "text/plain": [
       "       DATE      SPX15      SPX17  SPX1517       P15       P17 RTN1517  \\\n",
       "0  20151231   2,063.4    2,673.6       0.3   146.41    294.91    1.01    \n",
       "2  20151231   2,063.4    2,673.6       0.3    93.27    135.62    0.45    \n",
       "3  20151231   2,063.4    2,673.6       0.3   139.26    203.45    0.46    \n",
       "4  20151231   2,063.4    2,673.6       0.3   103.87    153.36    0.48    \n",
       "5  20151231   2,063.4    2,673.6       0.3    30.90     68.25    1.21    \n",
       "\n",
       "  REL_RTN    ROE                          NAME    ...     S_SCORE G_SCORE  \\\n",
       "0    0.72  46.22            The Boeing Company    ...        45.0    59.0   \n",
       "2    0.16  36.92         Rockwell Collins Inc.    ...        66.0    75.0   \n",
       "3    0.17  20.30  General Dynamics Corporation    ...        51.0    60.0   \n",
       "4    0.18  24.14  Honeywell International Inc.    ...        54.0    74.0   \n",
       "5    0.91   3.25                      KLX Inc.    ...        43.0    66.0   \n",
       "\n",
       "  ESG_PTILE  E_PTILE  S_PTILE  G_PTILE  E_WT  S_WT  G_WT  ROE_clean  \n",
       "0     25.64    56.41    12.82    10.26  0.35  0.35   0.3     46.22   \n",
       "2     76.92    82.05    79.49    82.05  0.35  0.35   0.3     36.92   \n",
       "3     25.64    30.77    25.64    15.38  0.35  0.35   0.3     20.30   \n",
       "4     38.46    20.51    35.90    79.49  0.35  0.35   0.3     24.14   \n",
       "5      5.13     7.69     0.00    53.85  0.35  0.35   0.3      3.25   \n",
       "\n",
       "[5 rows x 25 columns]"
      ]
     },
     "execution_count": 54,
     "metadata": {},
     "output_type": "execute_result"
    }
   ],
   "source": [
    "df_esg_clean.head()"
   ]
  },
  {
   "cell_type": "code",
   "execution_count": null,
   "metadata": {},
   "outputs": [],
   "source": []
  },
  {
   "cell_type": "markdown",
   "metadata": {},
   "source": [
    "We'll be using a linear regression model, so we must examine our features' distributions to ensure that the normal distribution assumption is satisfied.  We'll also check for outliers during this step.  Finally, we'll examine whether correlations and collinearity exist among/betwen our features. "
   ]
  },
  {
   "cell_type": "code",
   "execution_count": 55,
   "metadata": {},
   "outputs": [
    {
     "data": {
      "text/plain": [
       "0       0.72\n",
       "2       0.16\n",
       "3       0.17\n",
       "4       0.18\n",
       "5       0.91\n",
       "6       0.34\n",
       "7       0.16\n",
       "8       0.32\n",
       "11      0.20\n",
       "12      0.49\n",
       "14     -0.62\n",
       "15      0.04\n",
       "16      0.02\n",
       "17     -0.13\n",
       "19     -0.01\n",
       "20     -0.33\n",
       "22      0.12\n",
       "23     -0.04\n",
       "24     -0.22\n",
       "25     -0.41\n",
       "26     -0.10\n",
       "27     -0.18\n",
       "28      1.33\n",
       "29      0.01\n",
       "30      0.04\n",
       "31      0.44\n",
       "32      0.01\n",
       "33      0.05\n",
       "34      0.23\n",
       "35     -0.05\n",
       "       ...  \n",
       "951    -0.25\n",
       "952    -0.08\n",
       "953    -0.12\n",
       "954     0.13\n",
       "955    -0.35\n",
       "957    -0.14\n",
       "958    -0.06\n",
       "960     0.05\n",
       "961     0.15\n",
       "962     0.19\n",
       "963     0.00\n",
       "964    -0.00\n",
       "965     1.27\n",
       "966    -0.06\n",
       "967     0.13\n",
       "968     0.45\n",
       "969    -0.46\n",
       "970     0.03\n",
       "971     0.01\n",
       "973    -0.07\n",
       "974    -0.39\n",
       "975    -0.65\n",
       "976    -0.28\n",
       "977    -0.17\n",
       "981     0.07\n",
       "982     0.20\n",
       "983    -0.02\n",
       "984    -0.07\n",
       "985     0.00\n",
       "986     0.03\n",
       "Name: REL_RTN, Length: 865, dtype: object"
      ]
     },
     "execution_count": 55,
     "metadata": {},
     "output_type": "execute_result"
    }
   ],
   "source": [
    "df_esg_clean.REL_RTN"
   ]
  },
  {
   "cell_type": "code",
   "execution_count": 66,
   "metadata": {},
   "outputs": [
    {
     "ename": "ValueError",
     "evalue": "could not convert string to float: '-7,067.81'",
     "output_type": "error",
     "traceback": [
      "\u001b[0;31m---------------------------------------------------------------------------\u001b[0m",
      "\u001b[0;31mValueError\u001b[0m                                Traceback (most recent call last)",
      "\u001b[0;32m<ipython-input-66-2b801c1ecd07>\u001b[0m in \u001b[0;36m<module>\u001b[0;34m()\u001b[0m\n\u001b[1;32m      1\u001b[0m \u001b[0mdf_esg_clean\u001b[0m\u001b[0;34m[\u001b[0m\u001b[0;34m'REL_RTN'\u001b[0m\u001b[0;34m]\u001b[0m\u001b[0;34m.\u001b[0m\u001b[0mastype\u001b[0m\u001b[0;34m(\u001b[0m\u001b[0mfloat\u001b[0m\u001b[0;34m)\u001b[0m\u001b[0;34m\u001b[0m\u001b[0m\n\u001b[0;32m----> 2\u001b[0;31m \u001b[0mdf_esg_clean\u001b[0m\u001b[0;34m[\u001b[0m\u001b[0;34m'ROE'\u001b[0m\u001b[0;34m]\u001b[0m\u001b[0;34m.\u001b[0m\u001b[0mastype\u001b[0m\u001b[0;34m(\u001b[0m\u001b[0mfloat\u001b[0m\u001b[0;34m)\u001b[0m\u001b[0;34m\u001b[0m\u001b[0m\n\u001b[0m",
      "\u001b[0;32m/anaconda3/lib/python3.6/site-packages/pandas/util/_decorators.py\u001b[0m in \u001b[0;36mwrapper\u001b[0;34m(*args, **kwargs)\u001b[0m\n\u001b[1;32m    116\u001b[0m                 \u001b[0;32melse\u001b[0m\u001b[0;34m:\u001b[0m\u001b[0;34m\u001b[0m\u001b[0m\n\u001b[1;32m    117\u001b[0m                     \u001b[0mkwargs\u001b[0m\u001b[0;34m[\u001b[0m\u001b[0mnew_arg_name\u001b[0m\u001b[0;34m]\u001b[0m \u001b[0;34m=\u001b[0m \u001b[0mnew_arg_value\u001b[0m\u001b[0;34m\u001b[0m\u001b[0m\n\u001b[0;32m--> 118\u001b[0;31m             \u001b[0;32mreturn\u001b[0m \u001b[0mfunc\u001b[0m\u001b[0;34m(\u001b[0m\u001b[0;34m*\u001b[0m\u001b[0margs\u001b[0m\u001b[0;34m,\u001b[0m \u001b[0;34m**\u001b[0m\u001b[0mkwargs\u001b[0m\u001b[0;34m)\u001b[0m\u001b[0;34m\u001b[0m\u001b[0m\n\u001b[0m\u001b[1;32m    119\u001b[0m         \u001b[0;32mreturn\u001b[0m \u001b[0mwrapper\u001b[0m\u001b[0;34m\u001b[0m\u001b[0m\n\u001b[1;32m    120\u001b[0m     \u001b[0;32mreturn\u001b[0m \u001b[0m_deprecate_kwarg\u001b[0m\u001b[0;34m\u001b[0m\u001b[0m\n",
      "\u001b[0;32m/anaconda3/lib/python3.6/site-packages/pandas/core/generic.py\u001b[0m in \u001b[0;36mastype\u001b[0;34m(self, dtype, copy, errors, **kwargs)\u001b[0m\n\u001b[1;32m   4002\u001b[0m         \u001b[0;31m# else, only a single dtype is given\u001b[0m\u001b[0;34m\u001b[0m\u001b[0;34m\u001b[0m\u001b[0m\n\u001b[1;32m   4003\u001b[0m         new_data = self._data.astype(dtype=dtype, copy=copy, errors=errors,\n\u001b[0;32m-> 4004\u001b[0;31m                                      **kwargs)\n\u001b[0m\u001b[1;32m   4005\u001b[0m         \u001b[0;32mreturn\u001b[0m \u001b[0mself\u001b[0m\u001b[0;34m.\u001b[0m\u001b[0m_constructor\u001b[0m\u001b[0;34m(\u001b[0m\u001b[0mnew_data\u001b[0m\u001b[0;34m)\u001b[0m\u001b[0;34m.\u001b[0m\u001b[0m__finalize__\u001b[0m\u001b[0;34m(\u001b[0m\u001b[0mself\u001b[0m\u001b[0;34m)\u001b[0m\u001b[0;34m\u001b[0m\u001b[0m\n\u001b[1;32m   4006\u001b[0m \u001b[0;34m\u001b[0m\u001b[0m\n",
      "\u001b[0;32m/anaconda3/lib/python3.6/site-packages/pandas/core/internals.py\u001b[0m in \u001b[0;36mastype\u001b[0;34m(self, dtype, **kwargs)\u001b[0m\n\u001b[1;32m   3460\u001b[0m \u001b[0;34m\u001b[0m\u001b[0m\n\u001b[1;32m   3461\u001b[0m     \u001b[0;32mdef\u001b[0m \u001b[0mastype\u001b[0m\u001b[0;34m(\u001b[0m\u001b[0mself\u001b[0m\u001b[0;34m,\u001b[0m \u001b[0mdtype\u001b[0m\u001b[0;34m,\u001b[0m \u001b[0;34m**\u001b[0m\u001b[0mkwargs\u001b[0m\u001b[0;34m)\u001b[0m\u001b[0;34m:\u001b[0m\u001b[0;34m\u001b[0m\u001b[0m\n\u001b[0;32m-> 3462\u001b[0;31m         \u001b[0;32mreturn\u001b[0m \u001b[0mself\u001b[0m\u001b[0;34m.\u001b[0m\u001b[0mapply\u001b[0m\u001b[0;34m(\u001b[0m\u001b[0;34m'astype'\u001b[0m\u001b[0;34m,\u001b[0m \u001b[0mdtype\u001b[0m\u001b[0;34m=\u001b[0m\u001b[0mdtype\u001b[0m\u001b[0;34m,\u001b[0m \u001b[0;34m**\u001b[0m\u001b[0mkwargs\u001b[0m\u001b[0;34m)\u001b[0m\u001b[0;34m\u001b[0m\u001b[0m\n\u001b[0m\u001b[1;32m   3463\u001b[0m \u001b[0;34m\u001b[0m\u001b[0m\n\u001b[1;32m   3464\u001b[0m     \u001b[0;32mdef\u001b[0m \u001b[0mconvert\u001b[0m\u001b[0;34m(\u001b[0m\u001b[0mself\u001b[0m\u001b[0;34m,\u001b[0m \u001b[0;34m**\u001b[0m\u001b[0mkwargs\u001b[0m\u001b[0;34m)\u001b[0m\u001b[0;34m:\u001b[0m\u001b[0;34m\u001b[0m\u001b[0m\n",
      "\u001b[0;32m/anaconda3/lib/python3.6/site-packages/pandas/core/internals.py\u001b[0m in \u001b[0;36mapply\u001b[0;34m(self, f, axes, filter, do_integrity_check, consolidate, **kwargs)\u001b[0m\n\u001b[1;32m   3327\u001b[0m \u001b[0;34m\u001b[0m\u001b[0m\n\u001b[1;32m   3328\u001b[0m             \u001b[0mkwargs\u001b[0m\u001b[0;34m[\u001b[0m\u001b[0;34m'mgr'\u001b[0m\u001b[0;34m]\u001b[0m \u001b[0;34m=\u001b[0m \u001b[0mself\u001b[0m\u001b[0;34m\u001b[0m\u001b[0m\n\u001b[0;32m-> 3329\u001b[0;31m             \u001b[0mapplied\u001b[0m \u001b[0;34m=\u001b[0m \u001b[0mgetattr\u001b[0m\u001b[0;34m(\u001b[0m\u001b[0mb\u001b[0m\u001b[0;34m,\u001b[0m \u001b[0mf\u001b[0m\u001b[0;34m)\u001b[0m\u001b[0;34m(\u001b[0m\u001b[0;34m**\u001b[0m\u001b[0mkwargs\u001b[0m\u001b[0;34m)\u001b[0m\u001b[0;34m\u001b[0m\u001b[0m\n\u001b[0m\u001b[1;32m   3330\u001b[0m             \u001b[0mresult_blocks\u001b[0m \u001b[0;34m=\u001b[0m \u001b[0m_extend_blocks\u001b[0m\u001b[0;34m(\u001b[0m\u001b[0mapplied\u001b[0m\u001b[0;34m,\u001b[0m \u001b[0mresult_blocks\u001b[0m\u001b[0;34m)\u001b[0m\u001b[0;34m\u001b[0m\u001b[0m\n\u001b[1;32m   3331\u001b[0m \u001b[0;34m\u001b[0m\u001b[0m\n",
      "\u001b[0;32m/anaconda3/lib/python3.6/site-packages/pandas/core/internals.py\u001b[0m in \u001b[0;36mastype\u001b[0;34m(self, dtype, copy, errors, values, **kwargs)\u001b[0m\n\u001b[1;32m    542\u001b[0m     \u001b[0;32mdef\u001b[0m \u001b[0mastype\u001b[0m\u001b[0;34m(\u001b[0m\u001b[0mself\u001b[0m\u001b[0;34m,\u001b[0m \u001b[0mdtype\u001b[0m\u001b[0;34m,\u001b[0m \u001b[0mcopy\u001b[0m\u001b[0;34m=\u001b[0m\u001b[0;32mFalse\u001b[0m\u001b[0;34m,\u001b[0m \u001b[0merrors\u001b[0m\u001b[0;34m=\u001b[0m\u001b[0;34m'raise'\u001b[0m\u001b[0;34m,\u001b[0m \u001b[0mvalues\u001b[0m\u001b[0;34m=\u001b[0m\u001b[0;32mNone\u001b[0m\u001b[0;34m,\u001b[0m \u001b[0;34m**\u001b[0m\u001b[0mkwargs\u001b[0m\u001b[0;34m)\u001b[0m\u001b[0;34m:\u001b[0m\u001b[0;34m\u001b[0m\u001b[0m\n\u001b[1;32m    543\u001b[0m         return self._astype(dtype, copy=copy, errors=errors, values=values,\n\u001b[0;32m--> 544\u001b[0;31m                             **kwargs)\n\u001b[0m\u001b[1;32m    545\u001b[0m \u001b[0;34m\u001b[0m\u001b[0m\n\u001b[1;32m    546\u001b[0m     def _astype(self, dtype, copy=False, errors='raise', values=None,\n",
      "\u001b[0;32m/anaconda3/lib/python3.6/site-packages/pandas/core/internals.py\u001b[0m in \u001b[0;36m_astype\u001b[0;34m(self, dtype, copy, errors, values, klass, mgr, **kwargs)\u001b[0m\n\u001b[1;32m    623\u001b[0m \u001b[0;34m\u001b[0m\u001b[0m\n\u001b[1;32m    624\u001b[0m                 \u001b[0;31m# _astype_nansafe works fine with 1-d only\u001b[0m\u001b[0;34m\u001b[0m\u001b[0;34m\u001b[0m\u001b[0m\n\u001b[0;32m--> 625\u001b[0;31m                 \u001b[0mvalues\u001b[0m \u001b[0;34m=\u001b[0m \u001b[0mastype_nansafe\u001b[0m\u001b[0;34m(\u001b[0m\u001b[0mvalues\u001b[0m\u001b[0;34m.\u001b[0m\u001b[0mravel\u001b[0m\u001b[0;34m(\u001b[0m\u001b[0;34m)\u001b[0m\u001b[0;34m,\u001b[0m \u001b[0mdtype\u001b[0m\u001b[0;34m,\u001b[0m \u001b[0mcopy\u001b[0m\u001b[0;34m=\u001b[0m\u001b[0;32mTrue\u001b[0m\u001b[0;34m)\u001b[0m\u001b[0;34m\u001b[0m\u001b[0m\n\u001b[0m\u001b[1;32m    626\u001b[0m                 \u001b[0mvalues\u001b[0m \u001b[0;34m=\u001b[0m \u001b[0mvalues\u001b[0m\u001b[0;34m.\u001b[0m\u001b[0mreshape\u001b[0m\u001b[0;34m(\u001b[0m\u001b[0mself\u001b[0m\u001b[0;34m.\u001b[0m\u001b[0mshape\u001b[0m\u001b[0;34m)\u001b[0m\u001b[0;34m\u001b[0m\u001b[0m\n\u001b[1;32m    627\u001b[0m \u001b[0;34m\u001b[0m\u001b[0m\n",
      "\u001b[0;32m/anaconda3/lib/python3.6/site-packages/pandas/core/dtypes/cast.py\u001b[0m in \u001b[0;36mastype_nansafe\u001b[0;34m(arr, dtype, copy)\u001b[0m\n\u001b[1;32m    701\u001b[0m \u001b[0;34m\u001b[0m\u001b[0m\n\u001b[1;32m    702\u001b[0m     \u001b[0;32mif\u001b[0m \u001b[0mcopy\u001b[0m\u001b[0;34m:\u001b[0m\u001b[0;34m\u001b[0m\u001b[0m\n\u001b[0;32m--> 703\u001b[0;31m         \u001b[0;32mreturn\u001b[0m \u001b[0marr\u001b[0m\u001b[0;34m.\u001b[0m\u001b[0mastype\u001b[0m\u001b[0;34m(\u001b[0m\u001b[0mdtype\u001b[0m\u001b[0;34m)\u001b[0m\u001b[0;34m\u001b[0m\u001b[0m\n\u001b[0m\u001b[1;32m    704\u001b[0m     \u001b[0;32mreturn\u001b[0m \u001b[0marr\u001b[0m\u001b[0;34m.\u001b[0m\u001b[0mview\u001b[0m\u001b[0;34m(\u001b[0m\u001b[0mdtype\u001b[0m\u001b[0;34m)\u001b[0m\u001b[0;34m\u001b[0m\u001b[0m\n\u001b[1;32m    705\u001b[0m \u001b[0;34m\u001b[0m\u001b[0m\n",
      "\u001b[0;31mValueError\u001b[0m: could not convert string to float: '-7,067.81'"
     ]
    }
   ],
   "source": [
    "df_esg_clean['REL_RTN'].astype(float)\n",
    "df_esg_clean['ROE'].astype(float)"
   ]
  },
  {
   "cell_type": "code",
   "execution_count": 56,
   "metadata": {},
   "outputs": [
    {
     "data": {
      "text/plain": [
       "(array([178., 113.,  72.,  36., 110., 182.,  80.,  46.,  26.,  22.]),\n",
       " array([  0. ,  21.3,  42.6,  63.9,  85.2, 106.5, 127.8, 149.1, 170.4,\n",
       "        191.7, 213. ]),\n",
       " <a list of 10 Patch objects>)"
      ]
     },
     "execution_count": 56,
     "metadata": {},
     "output_type": "execute_result"
    },
    {
     "data": {
      "image/png": "[encoded data removed]",
      "text/plain": [
       "<matplotlib.figure.Figure at 0x1150e1a90>"
      ]
     },
     "metadata": {},
     "output_type": "display_data"
    }
   ],
   "source": [
    "plt.figure()\n",
    "plt.subplot()\n",
    "plt.hist(df_esg_clean.REL_RTN)"
   ]
  },
  {
   "cell_type": "code",
   "execution_count": 58,
   "metadata": {},
   "outputs": [
    {
     "ename": "TypeError",
     "evalue": "cannot perform reduce with flexible type",
     "output_type": "error",
     "traceback": [
      "\u001b[0;31m---------------------------------------------------------------------------\u001b[0m",
      "\u001b[0;31mTypeError\u001b[0m                                 Traceback (most recent call last)",
      "\u001b[0;32m<ipython-input-58-86431373e98e>\u001b[0m in \u001b[0;36m<module>\u001b[0;34m()\u001b[0m\n\u001b[0;32m----> 1\u001b[0;31m \u001b[0mplt\u001b[0m\u001b[0;34m.\u001b[0m\u001b[0mboxplot\u001b[0m\u001b[0;34m(\u001b[0m\u001b[0mdf_esg_clean\u001b[0m\u001b[0;34m.\u001b[0m\u001b[0mREL_RTN\u001b[0m\u001b[0;34m)\u001b[0m\u001b[0;34m\u001b[0m\u001b[0m\n\u001b[0m",
      "\u001b[0;32m/anaconda3/lib/python3.6/site-packages/matplotlib/pyplot.py\u001b[0m in \u001b[0;36mboxplot\u001b[0;34m(x, notch, sym, vert, whis, positions, widths, patch_artist, bootstrap, usermedians, conf_intervals, meanline, showmeans, showcaps, showbox, showfliers, boxprops, labels, flierprops, medianprops, meanprops, capprops, whiskerprops, manage_xticks, autorange, zorder, hold, data)\u001b[0m\n\u001b[1;32m   2727\u001b[0m                          \u001b[0mwhiskerprops\u001b[0m\u001b[0;34m=\u001b[0m\u001b[0mwhiskerprops\u001b[0m\u001b[0;34m,\u001b[0m\u001b[0;34m\u001b[0m\u001b[0m\n\u001b[1;32m   2728\u001b[0m                          \u001b[0mmanage_xticks\u001b[0m\u001b[0;34m=\u001b[0m\u001b[0mmanage_xticks\u001b[0m\u001b[0;34m,\u001b[0m \u001b[0mautorange\u001b[0m\u001b[0;34m=\u001b[0m\u001b[0mautorange\u001b[0m\u001b[0;34m,\u001b[0m\u001b[0;34m\u001b[0m\u001b[0m\n\u001b[0;32m-> 2729\u001b[0;31m                          zorder=zorder, data=data)\n\u001b[0m\u001b[1;32m   2730\u001b[0m     \u001b[0;32mfinally\u001b[0m\u001b[0;34m:\u001b[0m\u001b[0;34m\u001b[0m\u001b[0m\n\u001b[1;32m   2731\u001b[0m         \u001b[0max\u001b[0m\u001b[0;34m.\u001b[0m\u001b[0m_hold\u001b[0m \u001b[0;34m=\u001b[0m \u001b[0mwashold\u001b[0m\u001b[0;34m\u001b[0m\u001b[0m\n",
      "\u001b[0;32m/anaconda3/lib/python3.6/site-packages/matplotlib/__init__.py\u001b[0m in \u001b[0;36minner\u001b[0;34m(ax, *args, **kwargs)\u001b[0m\n\u001b[1;32m   1715\u001b[0m                     warnings.warn(msg % (label_namer, func.__name__),\n\u001b[1;32m   1716\u001b[0m                                   RuntimeWarning, stacklevel=2)\n\u001b[0;32m-> 1717\u001b[0;31m             \u001b[0;32mreturn\u001b[0m \u001b[0mfunc\u001b[0m\u001b[0;34m(\u001b[0m\u001b[0max\u001b[0m\u001b[0;34m,\u001b[0m \u001b[0;34m*\u001b[0m\u001b[0margs\u001b[0m\u001b[0;34m,\u001b[0m \u001b[0;34m**\u001b[0m\u001b[0mkwargs\u001b[0m\u001b[0;34m)\u001b[0m\u001b[0;34m\u001b[0m\u001b[0m\n\u001b[0m\u001b[1;32m   1718\u001b[0m         \u001b[0mpre_doc\u001b[0m \u001b[0;34m=\u001b[0m \u001b[0minner\u001b[0m\u001b[0;34m.\u001b[0m\u001b[0m__doc__\u001b[0m\u001b[0;34m\u001b[0m\u001b[0m\n\u001b[1;32m   1719\u001b[0m         \u001b[0;32mif\u001b[0m \u001b[0mpre_doc\u001b[0m \u001b[0;32mis\u001b[0m \u001b[0;32mNone\u001b[0m\u001b[0;34m:\u001b[0m\u001b[0;34m\u001b[0m\u001b[0m\n",
      "\u001b[0;32m/anaconda3/lib/python3.6/site-packages/matplotlib/axes/_axes.py\u001b[0m in \u001b[0;36mboxplot\u001b[0;34m(self, x, notch, sym, vert, whis, positions, widths, patch_artist, bootstrap, usermedians, conf_intervals, meanline, showmeans, showcaps, showbox, showfliers, boxprops, labels, flierprops, medianprops, meanprops, capprops, whiskerprops, manage_xticks, autorange, zorder)\u001b[0m\n\u001b[1;32m   3266\u001b[0m \u001b[0;34m\u001b[0m\u001b[0m\n\u001b[1;32m   3267\u001b[0m         bxpstats = cbook.boxplot_stats(x, whis=whis, bootstrap=bootstrap,\n\u001b[0;32m-> 3268\u001b[0;31m                                        labels=labels, autorange=autorange)\n\u001b[0m\u001b[1;32m   3269\u001b[0m         \u001b[0;32mif\u001b[0m \u001b[0mnotch\u001b[0m \u001b[0;32mis\u001b[0m \u001b[0;32mNone\u001b[0m\u001b[0;34m:\u001b[0m\u001b[0;34m\u001b[0m\u001b[0m\n\u001b[1;32m   3270\u001b[0m             \u001b[0mnotch\u001b[0m \u001b[0;34m=\u001b[0m \u001b[0mrcParams\u001b[0m\u001b[0;34m[\u001b[0m\u001b[0;34m'boxplot.notch'\u001b[0m\u001b[0;34m]\u001b[0m\u001b[0;34m\u001b[0m\u001b[0m\n",
      "\u001b[0;32m/anaconda3/lib/python3.6/site-packages/matplotlib/cbook/__init__.py\u001b[0m in \u001b[0;36mboxplot_stats\u001b[0;34m(X, whis, bootstrap, labels, autorange)\u001b[0m\n\u001b[1;32m   1822\u001b[0m \u001b[0;34m\u001b[0m\u001b[0m\n\u001b[1;32m   1823\u001b[0m         \u001b[0;31m# arithmetic mean\u001b[0m\u001b[0;34m\u001b[0m\u001b[0;34m\u001b[0m\u001b[0m\n\u001b[0;32m-> 1824\u001b[0;31m         \u001b[0mstats\u001b[0m\u001b[0;34m[\u001b[0m\u001b[0;34m'mean'\u001b[0m\u001b[0;34m]\u001b[0m \u001b[0;34m=\u001b[0m \u001b[0mnp\u001b[0m\u001b[0;34m.\u001b[0m\u001b[0mmean\u001b[0m\u001b[0;34m(\u001b[0m\u001b[0mx\u001b[0m\u001b[0;34m)\u001b[0m\u001b[0;34m\u001b[0m\u001b[0m\n\u001b[0m\u001b[1;32m   1825\u001b[0m \u001b[0;34m\u001b[0m\u001b[0m\n\u001b[1;32m   1826\u001b[0m         \u001b[0;31m# medians and quartiles\u001b[0m\u001b[0;34m\u001b[0m\u001b[0;34m\u001b[0m\u001b[0m\n",
      "\u001b[0;32m/anaconda3/lib/python3.6/site-packages/numpy/core/fromnumeric.py\u001b[0m in \u001b[0;36mmean\u001b[0;34m(a, axis, dtype, out, keepdims)\u001b[0m\n\u001b[1;32m   2955\u001b[0m \u001b[0;34m\u001b[0m\u001b[0m\n\u001b[1;32m   2956\u001b[0m     return _methods._mean(a, axis=axis, dtype=dtype,\n\u001b[0;32m-> 2957\u001b[0;31m                           out=out, **kwargs)\n\u001b[0m\u001b[1;32m   2958\u001b[0m \u001b[0;34m\u001b[0m\u001b[0m\n\u001b[1;32m   2959\u001b[0m \u001b[0;34m\u001b[0m\u001b[0m\n",
      "\u001b[0;32m/anaconda3/lib/python3.6/site-packages/numpy/core/_methods.py\u001b[0m in \u001b[0;36m_mean\u001b[0;34m(a, axis, dtype, out, keepdims)\u001b[0m\n\u001b[1;32m     68\u001b[0m             \u001b[0mis_float16_result\u001b[0m \u001b[0;34m=\u001b[0m \u001b[0;32mTrue\u001b[0m\u001b[0;34m\u001b[0m\u001b[0m\n\u001b[1;32m     69\u001b[0m \u001b[0;34m\u001b[0m\u001b[0m\n\u001b[0;32m---> 70\u001b[0;31m     \u001b[0mret\u001b[0m \u001b[0;34m=\u001b[0m \u001b[0mumr_sum\u001b[0m\u001b[0;34m(\u001b[0m\u001b[0marr\u001b[0m\u001b[0;34m,\u001b[0m \u001b[0maxis\u001b[0m\u001b[0;34m,\u001b[0m \u001b[0mdtype\u001b[0m\u001b[0;34m,\u001b[0m \u001b[0mout\u001b[0m\u001b[0;34m,\u001b[0m \u001b[0mkeepdims\u001b[0m\u001b[0;34m)\u001b[0m\u001b[0;34m\u001b[0m\u001b[0m\n\u001b[0m\u001b[1;32m     71\u001b[0m     \u001b[0;32mif\u001b[0m \u001b[0misinstance\u001b[0m\u001b[0;34m(\u001b[0m\u001b[0mret\u001b[0m\u001b[0;34m,\u001b[0m \u001b[0mmu\u001b[0m\u001b[0;34m.\u001b[0m\u001b[0mndarray\u001b[0m\u001b[0;34m)\u001b[0m\u001b[0;34m:\u001b[0m\u001b[0;34m\u001b[0m\u001b[0m\n\u001b[1;32m     72\u001b[0m         ret = um.true_divide(\n",
      "\u001b[0;31mTypeError\u001b[0m: cannot perform reduce with flexible type"
     ]
    },
    {
     "data": {
      "image/png": "[encoded data removed]",
      "text/plain": [
       "<matplotlib.figure.Figure at 0x1a1f9cd2e8>"
      ]
     },
     "metadata": {},
     "output_type": "display_data"
    }
   ],
   "source": [
    "plt.boxplot(df_esg_clean.REL_RTN)"
   ]
  },
  {
   "cell_type": "code",
   "execution_count": 59,
   "metadata": {},
   "outputs": [
    {
     "data": {
      "text/plain": [
       "{'boxes': [<matplotlib.lines.Line2D at 0x1a1fbb9518>],\n",
       " 'caps': [<matplotlib.lines.Line2D at 0x1a1fbb9f28>,\n",
       "  <matplotlib.lines.Line2D at 0x1a1fbc4390>],\n",
       " 'fliers': [<matplotlib.lines.Line2D at 0x1a1fbc4be0>],\n",
       " 'means': [],\n",
       " 'medians': [<matplotlib.lines.Line2D at 0x1a1fbc47b8>],\n",
       " 'whiskers': [<matplotlib.lines.Line2D at 0x1a1fbb9668>,\n",
       "  <matplotlib.lines.Line2D at 0x1a1fbb9b00>]}"
      ]
     },
     "execution_count": 59,
     "metadata": {},
     "output_type": "execute_result"
    },
    {
     "data": {
      "image/png": "[encoded data removed]",
      "text/plain": [
       "<matplotlib.figure.Figure at 0x1a1f7736a0>"
      ]
     },
     "metadata": {},
     "output_type": "display_data"
    }
   ],
   "source": [
    "plt.figure()\n",
    "plt.subplot()\n",
    "plt.boxplot(df_esg_clean.TOTAL_ESG_SCORE)"
   ]
  },
  {
   "cell_type": "code",
   "execution_count": 60,
   "metadata": {},
   "outputs": [
    {
     "data": {
      "text/plain": [
       "(array([ 74., 206., 171., 159., 116.,  84.,  43.,   8.,   3.,   1.]),\n",
       " array([42. , 46.9, 51.8, 56.7, 61.6, 66.5, 71.4, 76.3, 81.2, 86.1, 91. ]),\n",
       " <a list of 10 Patch objects>)"
      ]
     },
     "execution_count": 60,
     "metadata": {},
     "output_type": "execute_result"
    },
    {
     "data": {
      "image/png": "[encoded data removed]",
      "text/plain": [
       "<matplotlib.figure.Figure at 0x1a1fce7e48>"
      ]
     },
     "metadata": {},
     "output_type": "display_data"
    }
   ],
   "source": [
    "plt.figure()\n",
    "plt.subplot()\n",
    "plt.hist(df_esg_clean.TOTAL_ESG_SCORE)"
   ]
  },
  {
   "cell_type": "code",
   "execution_count": 61,
   "metadata": {},
   "outputs": [
    {
     "ename": "TypeError",
     "evalue": "cannot perform reduce with flexible type",
     "output_type": "error",
     "traceback": [
      "\u001b[0;31m---------------------------------------------------------------------------\u001b[0m",
      "\u001b[0;31mTypeError\u001b[0m                                 Traceback (most recent call last)",
      "\u001b[0;32m<ipython-input-61-28a7781c3fa1>\u001b[0m in \u001b[0;36m<module>\u001b[0;34m()\u001b[0m\n\u001b[1;32m      3\u001b[0m \u001b[0mesg_box\u001b[0m \u001b[0;34m=\u001b[0m \u001b[0mesg_plot\u001b[0m\u001b[0;34m.\u001b[0m\u001b[0madd_subplot\u001b[0m\u001b[0;34m(\u001b[0m\u001b[0;36m2\u001b[0m\u001b[0;34m,\u001b[0m \u001b[0;36m1\u001b[0m\u001b[0;34m,\u001b[0m \u001b[0;36m2\u001b[0m\u001b[0;34m)\u001b[0m\u001b[0;34m\u001b[0m\u001b[0m\n\u001b[1;32m      4\u001b[0m \u001b[0mesg_hist\u001b[0m\u001b[0;34m.\u001b[0m\u001b[0mhist\u001b[0m\u001b[0;34m(\u001b[0m\u001b[0;34m'TOTAL_ESG_SCORE'\u001b[0m\u001b[0;34m)\u001b[0m\u001b[0;34m\u001b[0m\u001b[0m\n\u001b[0;32m----> 5\u001b[0;31m \u001b[0mesg_box\u001b[0m\u001b[0;34m.\u001b[0m\u001b[0mboxplot\u001b[0m\u001b[0;34m(\u001b[0m\u001b[0;34m'TOTAL_ESG_SCORE'\u001b[0m\u001b[0;34m)\u001b[0m\u001b[0;34m\u001b[0m\u001b[0m\n\u001b[0m\u001b[1;32m      6\u001b[0m \u001b[0mesg_plot\u001b[0m \u001b[0;34m=\u001b[0m \u001b[0mplt\u001b[0m\u001b[0;34m.\u001b[0m\u001b[0msubplots\u001b[0m\u001b[0;34m(\u001b[0m\u001b[0;36m2\u001b[0m\u001b[0;34m,\u001b[0m \u001b[0;36m2\u001b[0m\u001b[0;34m)\u001b[0m\u001b[0;34m\u001b[0m\u001b[0m\n",
      "\u001b[0;32m/anaconda3/lib/python3.6/site-packages/matplotlib/__init__.py\u001b[0m in \u001b[0;36minner\u001b[0;34m(ax, *args, **kwargs)\u001b[0m\n\u001b[1;32m   1715\u001b[0m                     warnings.warn(msg % (label_namer, func.__name__),\n\u001b[1;32m   1716\u001b[0m                                   RuntimeWarning, stacklevel=2)\n\u001b[0;32m-> 1717\u001b[0;31m             \u001b[0;32mreturn\u001b[0m \u001b[0mfunc\u001b[0m\u001b[0;34m(\u001b[0m\u001b[0max\u001b[0m\u001b[0;34m,\u001b[0m \u001b[0;34m*\u001b[0m\u001b[0margs\u001b[0m\u001b[0;34m,\u001b[0m \u001b[0;34m**\u001b[0m\u001b[0mkwargs\u001b[0m\u001b[0;34m)\u001b[0m\u001b[0;34m\u001b[0m\u001b[0m\n\u001b[0m\u001b[1;32m   1718\u001b[0m         \u001b[0mpre_doc\u001b[0m \u001b[0;34m=\u001b[0m \u001b[0minner\u001b[0m\u001b[0;34m.\u001b[0m\u001b[0m__doc__\u001b[0m\u001b[0;34m\u001b[0m\u001b[0m\n\u001b[1;32m   1719\u001b[0m         \u001b[0;32mif\u001b[0m \u001b[0mpre_doc\u001b[0m \u001b[0;32mis\u001b[0m \u001b[0;32mNone\u001b[0m\u001b[0;34m:\u001b[0m\u001b[0;34m\u001b[0m\u001b[0m\n",
      "\u001b[0;32m/anaconda3/lib/python3.6/site-packages/matplotlib/axes/_axes.py\u001b[0m in \u001b[0;36mboxplot\u001b[0;34m(self, x, notch, sym, vert, whis, positions, widths, patch_artist, bootstrap, usermedians, conf_intervals, meanline, showmeans, showcaps, showbox, showfliers, boxprops, labels, flierprops, medianprops, meanprops, capprops, whiskerprops, manage_xticks, autorange, zorder)\u001b[0m\n\u001b[1;32m   3266\u001b[0m \u001b[0;34m\u001b[0m\u001b[0m\n\u001b[1;32m   3267\u001b[0m         bxpstats = cbook.boxplot_stats(x, whis=whis, bootstrap=bootstrap,\n\u001b[0;32m-> 3268\u001b[0;31m                                        labels=labels, autorange=autorange)\n\u001b[0m\u001b[1;32m   3269\u001b[0m         \u001b[0;32mif\u001b[0m \u001b[0mnotch\u001b[0m \u001b[0;32mis\u001b[0m \u001b[0;32mNone\u001b[0m\u001b[0;34m:\u001b[0m\u001b[0;34m\u001b[0m\u001b[0m\n\u001b[1;32m   3270\u001b[0m             \u001b[0mnotch\u001b[0m \u001b[0;34m=\u001b[0m \u001b[0mrcParams\u001b[0m\u001b[0;34m[\u001b[0m\u001b[0;34m'boxplot.notch'\u001b[0m\u001b[0;34m]\u001b[0m\u001b[0;34m\u001b[0m\u001b[0m\n",
      "\u001b[0;32m/anaconda3/lib/python3.6/site-packages/matplotlib/cbook/__init__.py\u001b[0m in \u001b[0;36mboxplot_stats\u001b[0;34m(X, whis, bootstrap, labels, autorange)\u001b[0m\n\u001b[1;32m   1822\u001b[0m \u001b[0;34m\u001b[0m\u001b[0m\n\u001b[1;32m   1823\u001b[0m         \u001b[0;31m# arithmetic mean\u001b[0m\u001b[0;34m\u001b[0m\u001b[0;34m\u001b[0m\u001b[0m\n\u001b[0;32m-> 1824\u001b[0;31m         \u001b[0mstats\u001b[0m\u001b[0;34m[\u001b[0m\u001b[0;34m'mean'\u001b[0m\u001b[0;34m]\u001b[0m \u001b[0;34m=\u001b[0m \u001b[0mnp\u001b[0m\u001b[0;34m.\u001b[0m\u001b[0mmean\u001b[0m\u001b[0;34m(\u001b[0m\u001b[0mx\u001b[0m\u001b[0;34m)\u001b[0m\u001b[0;34m\u001b[0m\u001b[0m\n\u001b[0m\u001b[1;32m   1825\u001b[0m \u001b[0;34m\u001b[0m\u001b[0m\n\u001b[1;32m   1826\u001b[0m         \u001b[0;31m# medians and quartiles\u001b[0m\u001b[0;34m\u001b[0m\u001b[0;34m\u001b[0m\u001b[0m\n",
      "\u001b[0;32m/anaconda3/lib/python3.6/site-packages/numpy/core/fromnumeric.py\u001b[0m in \u001b[0;36mmean\u001b[0;34m(a, axis, dtype, out, keepdims)\u001b[0m\n\u001b[1;32m   2955\u001b[0m \u001b[0;34m\u001b[0m\u001b[0m\n\u001b[1;32m   2956\u001b[0m     return _methods._mean(a, axis=axis, dtype=dtype,\n\u001b[0;32m-> 2957\u001b[0;31m                           out=out, **kwargs)\n\u001b[0m\u001b[1;32m   2958\u001b[0m \u001b[0;34m\u001b[0m\u001b[0m\n\u001b[1;32m   2959\u001b[0m \u001b[0;34m\u001b[0m\u001b[0m\n",
      "\u001b[0;32m/anaconda3/lib/python3.6/site-packages/numpy/core/_methods.py\u001b[0m in \u001b[0;36m_mean\u001b[0;34m(a, axis, dtype, out, keepdims)\u001b[0m\n\u001b[1;32m     68\u001b[0m             \u001b[0mis_float16_result\u001b[0m \u001b[0;34m=\u001b[0m \u001b[0;32mTrue\u001b[0m\u001b[0;34m\u001b[0m\u001b[0m\n\u001b[1;32m     69\u001b[0m \u001b[0;34m\u001b[0m\u001b[0m\n\u001b[0;32m---> 70\u001b[0;31m     \u001b[0mret\u001b[0m \u001b[0;34m=\u001b[0m \u001b[0mumr_sum\u001b[0m\u001b[0;34m(\u001b[0m\u001b[0marr\u001b[0m\u001b[0;34m,\u001b[0m \u001b[0maxis\u001b[0m\u001b[0;34m,\u001b[0m \u001b[0mdtype\u001b[0m\u001b[0;34m,\u001b[0m \u001b[0mout\u001b[0m\u001b[0;34m,\u001b[0m \u001b[0mkeepdims\u001b[0m\u001b[0;34m)\u001b[0m\u001b[0;34m\u001b[0m\u001b[0m\n\u001b[0m\u001b[1;32m     71\u001b[0m     \u001b[0;32mif\u001b[0m \u001b[0misinstance\u001b[0m\u001b[0;34m(\u001b[0m\u001b[0mret\u001b[0m\u001b[0;34m,\u001b[0m \u001b[0mmu\u001b[0m\u001b[0;34m.\u001b[0m\u001b[0mndarray\u001b[0m\u001b[0;34m)\u001b[0m\u001b[0;34m:\u001b[0m\u001b[0;34m\u001b[0m\u001b[0m\n\u001b[1;32m     72\u001b[0m         ret = um.true_divide(\n",
      "\u001b[0;31mTypeError\u001b[0m: cannot perform reduce with flexible type"
     ]
    },
    {
     "data": {
      "image/png": "[encoded data removed]",
      "text/plain": [
       "<matplotlib.figure.Figure at 0x1a1fced9e8>"
      ]
     },
     "metadata": {},
     "output_type": "display_data"
    }
   ],
   "source": [
    "esg_plot = plt.figure()\n",
    "esg_hist = esg_plot.add_subplot(2, 1, 1)\n",
    "esg_box = esg_plot.add_subplot(2, 1, 2)\n",
    "esg_hist.hist('TOTAL_ESG_SCORE')\n",
    "esg_box.boxplot('TOTAL_ESG_SCORE')\n",
    "esg_plot = plt.subplots(2, 2)"
   ]
  },
  {
   "cell_type": "code",
   "execution_count": null,
   "metadata": {},
   "outputs": [],
   "source": []
  },
  {
   "cell_type": "code",
   "execution_count": null,
   "metadata": {},
   "outputs": [],
   "source": []
  },
  {
   "cell_type": "code",
   "execution_count": 27,
   "metadata": {},
   "outputs": [
    {
     "data": {
      "text/plain": [
       "{'boxes': [<matplotlib.lines.Line2D at 0x1a1b8a6d68>],\n",
       " 'caps': [<matplotlib.lines.Line2D at 0x1a1b90f7b8>,\n",
       "  <matplotlib.lines.Line2D at 0x1a1b90fbe0>],\n",
       " 'fliers': [<matplotlib.lines.Line2D at 0x1a1b918470>],\n",
       " 'means': [],\n",
       " 'medians': [<matplotlib.lines.Line2D at 0x1a1b918048>],\n",
       " 'whiskers': [<matplotlib.lines.Line2D at 0x1a1b8a6eb8>,\n",
       "  <matplotlib.lines.Line2D at 0x1a1b90f390>]}"
      ]
     },
     "execution_count": 27,
     "metadata": {},
     "output_type": "execute_result"
    },
    {
     "data": {
      "image/png": "[encoded data removed]",
      "text/plain": [
       "<matplotlib.figure.Figure at 0x1a1b77e3c8>"
      ]
     },
     "metadata": {},
     "output_type": "display_data"
    }
   ],
   "source": [
    "plt.figure()\n",
    "plt.subplot()\n",
    "plt.boxplot(df_esg_clean.E_SCORE)"
   ]
  },
  {
   "cell_type": "code",
   "execution_count": 28,
   "metadata": {},
   "outputs": [
    {
     "data": {
      "text/plain": [
       "{'boxes': [<matplotlib.lines.Line2D at 0x1a1b9ccbe0>],\n",
       " 'caps': [<matplotlib.lines.Line2D at 0x1a1b9d3630>,\n",
       "  <matplotlib.lines.Line2D at 0x1a1b9d3a58>],\n",
       " 'fliers': [<matplotlib.lines.Line2D at 0x1a1b9db2e8>],\n",
       " 'means': [],\n",
       " 'medians': [<matplotlib.lines.Line2D at 0x1a1b9d3e80>],\n",
       " 'whiskers': [<matplotlib.lines.Line2D at 0x1a1b9ccd30>,\n",
       "  <matplotlib.lines.Line2D at 0x1a1b9d3208>]}"
      ]
     },
     "execution_count": 28,
     "metadata": {},
     "output_type": "execute_result"
    },
    {
     "data": {
      "image/png": "[encoded data removed]",
      "text/plain": [
       "<matplotlib.figure.Figure at 0x1a1b929978>"
      ]
     },
     "metadata": {},
     "output_type": "display_data"
    }
   ],
   "source": [
    "plt.figure()\n",
    "plt.subplot()\n",
    "plt.boxplot(df_esg_clean.S_SCORE)"
   ]
  },
  {
   "cell_type": "code",
   "execution_count": 29,
   "metadata": {},
   "outputs": [
    {
     "data": {
      "text/plain": [
       "{'boxes': [<matplotlib.lines.Line2D at 0x11484f780>],\n",
       " 'caps': [<matplotlib.lines.Line2D at 0x11486ee10>,\n",
       "  <matplotlib.lines.Line2D at 0x1150d5e80>],\n",
       " 'fliers': [<matplotlib.lines.Line2D at 0x1150d5d68>],\n",
       " 'means': [],\n",
       " 'medians': [<matplotlib.lines.Line2D at 0x1150d5cc0>],\n",
       " 'whiskers': [<matplotlib.lines.Line2D at 0x11484fd68>,\n",
       "  <matplotlib.lines.Line2D at 0x111153278>]}"
      ]
     },
     "execution_count": 29,
     "metadata": {},
     "output_type": "execute_result"
    },
    {
     "data": {
      "image/png": "[encoded data removed]",
      "text/plain": [
       "<matplotlib.figure.Figure at 0x1a1b9e4dd8>"
      ]
     },
     "metadata": {},
     "output_type": "display_data"
    }
   ],
   "source": [
    "plt.figure()\n",
    "plt.subplot()\n",
    "plt.boxplot(df_esg_clean.G_SCORE)"
   ]
  },
  {
   "cell_type": "code",
   "execution_count": 30,
   "metadata": {},
   "outputs": [
    {
     "data": {
      "text/plain": [
       "<matplotlib.collections.PathCollection at 0x1113d9588>"
      ]
     },
     "execution_count": 30,
     "metadata": {},
     "output_type": "execute_result"
    },
    {
     "data": {
      "image/png": "[encoded data removed]",
      "text/plain": [
       "<matplotlib.figure.Figure at 0x1150e1e10>"
      ]
     },
     "metadata": {},
     "output_type": "display_data"
    }
   ],
   "source": [
    "plt.scatter(df_esg_clean.TOTAL_ESG_SCORE, df_esg_clean.REL_RTN)"
   ]
  },
  {
   "cell_type": "code",
   "execution_count": 31,
   "metadata": {},
   "outputs": [
    {
     "data": {
      "text/plain": [
       "<matplotlib.collections.PathCollection at 0x1a1bce5668>"
      ]
     },
     "execution_count": 31,
     "metadata": {},
     "output_type": "execute_result"
    },
    {
     "data": {
      "image/png": "[encoded data removed]",
      "text/plain": [
       "<matplotlib.figure.Figure at 0x1113d18d0>"
      ]
     },
     "metadata": {},
     "output_type": "display_data"
    }
   ],
   "source": [
    "plt.scatter(df_esg_clean.E_SCORE, df_esg_clean.REL_RTN)"
   ]
  },
  {
   "cell_type": "code",
   "execution_count": 32,
   "metadata": {},
   "outputs": [
    {
     "data": {
      "text/plain": [
       "<matplotlib.collections.PathCollection at 0x1a1c0318d0>"
      ]
     },
     "execution_count": 32,
     "metadata": {},
     "output_type": "execute_result"
    },
    {
     "data": {
      "image/png": "[encoded data removed]",
      "text/plain": [
       "<matplotlib.figure.Figure at 0x1a1bf77cf8>"
      ]
     },
     "metadata": {},
     "output_type": "display_data"
    }
   ],
   "source": [
    "plt.scatter(df_esg_clean.S_SCORE, df_esg_clean.REL_RTN)"
   ]
  },
  {
   "cell_type": "code",
   "execution_count": 33,
   "metadata": {},
   "outputs": [
    {
     "data": {
      "text/plain": [
       "<matplotlib.collections.PathCollection at 0x1a1c197908>"
      ]
     },
     "execution_count": 33,
     "metadata": {},
     "output_type": "execute_result"
    },
    {
     "data": {
      "image/png": "[encoded data removed]",
      "text/plain": [
       "<matplotlib.figure.Figure at 0x1a1c2b89e8>"
      ]
     },
     "metadata": {},
     "output_type": "display_data"
    }
   ],
   "source": [
    "plt.scatter(df_esg_clean.G_SCORE, df_esg_clean.REL_RTN)"
   ]
  },
  {
   "cell_type": "code",
   "execution_count": 34,
   "metadata": {},
   "outputs": [],
   "source": [
    "esg_corr_mtrx = df_esg_clean.corr()"
   ]
  },
  {
   "cell_type": "code",
   "execution_count": 35,
   "metadata": {},
   "outputs": [
    {
     "data": {
      "text/plain": [
       "<matplotlib.axes._subplots.AxesSubplot at 0x1a1c4a8fd0>"
      ]
     },
     "execution_count": 35,
     "metadata": {},
     "output_type": "execute_result"
    },
    {
     "data": {
      "image/png": "[encoded data removed]",
      "text/plain": [
       "<matplotlib.figure.Figure at 0x1a1c4bb390>"
      ]
     },
     "metadata": {},
     "output_type": "display_data"
    }
   ],
   "source": [
    "plt.figure()\n",
    "sns.heatmap(esg_corr_mtrx)"
   ]
  },
  {
   "cell_type": "code",
   "execution_count": 36,
   "metadata": {},
   "outputs": [],
   "source": [
    "from pandas.plotting import scatter_matrix"
   ]
  },
  {
   "cell_type": "code",
   "execution_count": 37,
   "metadata": {},
   "outputs": [
    {
     "name": "stderr",
     "output_type": "stream",
     "text": [
      "/anaconda3/lib/python3.6/site-packages/matplotlib/axes/_base.py:2961: UserWarning: Attempting to set identical left==right results\n",
      "in singular transformations; automatically expanding.\n",
      "left=20151231.0, right=20151231.0\n",
      "  'left=%s, right=%s') % (left, right))\n",
      "/anaconda3/lib/python3.6/site-packages/matplotlib/axes/_base.py:2961: UserWarning: Attempting to set identical left==right results\n",
      "in singular transformations; automatically expanding.\n",
      "left=0.3, right=0.3\n",
      "  'left=%s, right=%s') % (left, right))\n",
      "/anaconda3/lib/python3.6/site-packages/matplotlib/axes/_base.py:3285: UserWarning: Attempting to set identical bottom==top results\n",
      "in singular transformations; automatically expanding.\n",
      "bottom=20151231.0, top=20151231.0\n",
      "  'bottom=%s, top=%s') % (bottom, top))\n",
      "/anaconda3/lib/python3.6/site-packages/matplotlib/axes/_base.py:3285: UserWarning: Attempting to set identical bottom==top results\n",
      "in singular transformations; automatically expanding.\n",
      "bottom=0.3, top=0.3\n",
      "  'bottom=%s, top=%s') % (bottom, top))\n"
     ]
    },
    {
     "data": {
      "text/plain": [
       "array([[<matplotlib.axes._subplots.AxesSubplot object at 0x1a1c66f278>,\n",
       "        <matplotlib.axes._subplots.AxesSubplot object at 0x1a1c765240>,\n",
       "        <matplotlib.axes._subplots.AxesSubplot object at 0x1a1c79d240>,\n",
       "        <matplotlib.axes._subplots.AxesSubplot object at 0x1a1c7d5780>,\n",
       "        <matplotlib.axes._subplots.AxesSubplot object at 0x1a1c80f6a0>,\n",
       "        <matplotlib.axes._subplots.AxesSubplot object at 0x1a1c80f6d8>,\n",
       "        <matplotlib.axes._subplots.AxesSubplot object at 0x1a1c870d30>,\n",
       "        <matplotlib.axes._subplots.AxesSubplot object at 0x1a1c8acd30>,\n",
       "        <matplotlib.axes._subplots.AxesSubplot object at 0x1a1c8e6d30>,\n",
       "        <matplotlib.axes._subplots.AxesSubplot object at 0x1a1c8844a8>,\n",
       "        <matplotlib.axes._subplots.AxesSubplot object at 0x1a1c94f780>,\n",
       "        <matplotlib.axes._subplots.AxesSubplot object at 0x1a1c98ac50>,\n",
       "        <matplotlib.axes._subplots.AxesSubplot object at 0x1a1c9ce1d0>],\n",
       "       [<matplotlib.axes._subplots.AxesSubplot object at 0x1a1c9f2048>,\n",
       "        <matplotlib.axes._subplots.AxesSubplot object at 0x1a1ca33240>,\n",
       "        <matplotlib.axes._subplots.AxesSubplot object at 0x1a1ca6b5c0>,\n",
       "        <matplotlib.axes._subplots.AxesSubplot object at 0x1a1ca8a438>,\n",
       "        <matplotlib.axes._subplots.AxesSubplot object at 0x1a1cae0550>,\n",
       "        <matplotlib.axes._subplots.AxesSubplot object at 0x1a1cb08be0>,\n",
       "        <matplotlib.axes._subplots.AxesSubplot object at 0x1a1cb43cc0>,\n",
       "        <matplotlib.axes._subplots.AxesSubplot object at 0x1a1cb7dcc0>,\n",
       "        <matplotlib.axes._subplots.AxesSubplot object at 0x1a1cbb7cc0>,\n",
       "        <matplotlib.axes._subplots.AxesSubplot object at 0x1a1cb9a4e0>,\n",
       "        <matplotlib.axes._subplots.AxesSubplot object at 0x1a1cc257f0>,\n",
       "        <matplotlib.axes._subplots.AxesSubplot object at 0x1a1cc5f7f0>,\n",
       "        <matplotlib.axes._subplots.AxesSubplot object at 0x1a1cc99710>],\n",
       "       [<matplotlib.axes._subplots.AxesSubplot object at 0x1a1ccd1630>,\n",
       "        <matplotlib.axes._subplots.AxesSubplot object at 0x1a1c81a748>,\n",
       "        <matplotlib.axes._subplots.AxesSubplot object at 0x1a1c3f0400>,\n",
       "        <matplotlib.axes._subplots.AxesSubplot object at 0x1a1bee1ef0>,\n",
       "        <matplotlib.axes._subplots.AxesSubplot object at 0x1a1cd3f240>,\n",
       "        <matplotlib.axes._subplots.AxesSubplot object at 0x1a1cd74240>,\n",
       "        <matplotlib.axes._subplots.AxesSubplot object at 0x1a1cd99be0>,\n",
       "        <matplotlib.axes._subplots.AxesSubplot object at 0x1a1cdd3c50>,\n",
       "        <matplotlib.axes._subplots.AxesSubplot object at 0x1a1ce0ec50>,\n",
       "        <matplotlib.axes._subplots.AxesSubplot object at 0x1a1ce46c50>,\n",
       "        <matplotlib.axes._subplots.AxesSubplot object at 0x1a1ce7e860>,\n",
       "        <matplotlib.axes._subplots.AxesSubplot object at 0x1a1ceb38d0>,\n",
       "        <matplotlib.axes._subplots.AxesSubplot object at 0x1a1ceed8d0>],\n",
       "       [<matplotlib.axes._subplots.AxesSubplot object at 0x1a1cf278d0>,\n",
       "        <matplotlib.axes._subplots.AxesSubplot object at 0x1a1cef8240>,\n",
       "        <matplotlib.axes._subplots.AxesSubplot object at 0x1a1cf94470>,\n",
       "        <matplotlib.axes._subplots.AxesSubplot object at 0x1a1cfcf390>,\n",
       "        <matplotlib.axes._subplots.AxesSubplot object at 0x1a1d009390>,\n",
       "        <matplotlib.axes._subplots.AxesSubplot object at 0x1a1d0408d0>,\n",
       "        <matplotlib.axes._subplots.AxesSubplot object at 0x1a1d06ae80>,\n",
       "        <matplotlib.axes._subplots.AxesSubplot object at 0x1a1d0a5e10>,\n",
       "        <matplotlib.axes._subplots.AxesSubplot object at 0x1a1d0dde10>,\n",
       "        <matplotlib.axes._subplots.AxesSubplot object at 0x1a1d123390>,\n",
       "        <matplotlib.axes._subplots.AxesSubplot object at 0x1a1d1477f0>,\n",
       "        <matplotlib.axes._subplots.AxesSubplot object at 0x1a1d186710>,\n",
       "        <matplotlib.axes._subplots.AxesSubplot object at 0x1a1d1c0710>],\n",
       "       [<matplotlib.axes._subplots.AxesSubplot object at 0x1a1d1f9c50>,\n",
       "        <matplotlib.axes._subplots.AxesSubplot object at 0x1a1d2058d0>,\n",
       "        <matplotlib.axes._subplots.AxesSubplot object at 0x1a1d2692b0>,\n",
       "        <matplotlib.axes._subplots.AxesSubplot object at 0x1a1d2a22b0>,\n",
       "        <matplotlib.axes._subplots.AxesSubplot object at 0x1a1d2da7f0>,\n",
       "        <matplotlib.axes._subplots.AxesSubplot object at 0x1a1d3137f0>,\n",
       "        <matplotlib.axes._subplots.AxesSubplot object at 0x1a1d340c50>,\n",
       "        <matplotlib.axes._subplots.AxesSubplot object at 0x1a1d377be0>,\n",
       "        <matplotlib.axes._subplots.AxesSubplot object at 0x1a1d3b3be0>,\n",
       "        <matplotlib.axes._subplots.AxesSubplot object at 0x1a1d3edb00>,\n",
       "        <matplotlib.axes._subplots.AxesSubplot object at 0x1a1d38ff60>,\n",
       "        <matplotlib.axes._subplots.AxesSubplot object at 0x1a1d458860>,\n",
       "        <matplotlib.axes._subplots.AxesSubplot object at 0x1a1d493860>],\n",
       "       [<matplotlib.axes._subplots.AxesSubplot object at 0x1a1d4ce7f0>,\n",
       "        <matplotlib.axes._subplots.AxesSubplot object at 0x1a1d504d30>,\n",
       "        <matplotlib.axes._subplots.AxesSubplot object at 0x1a1d53c1d0>,\n",
       "        <matplotlib.axes._subplots.AxesSubplot object at 0x1a1d575160>,\n",
       "        <matplotlib.axes._subplots.AxesSubplot object at 0x1a1d5af080>,\n",
       "        <matplotlib.axes._subplots.AxesSubplot object at 0x1a1d5c6a58>,\n",
       "        <matplotlib.axes._subplots.AxesSubplot object at 0x1a1d544cf8>,\n",
       "        <matplotlib.axes._subplots.AxesSubplot object at 0x1a1d64d940>,\n",
       "        <matplotlib.axes._subplots.AxesSubplot object at 0x1a1d6869b0>,\n",
       "        <matplotlib.axes._subplots.AxesSubplot object at 0x1a1d6c09b0>,\n",
       "        <matplotlib.axes._subplots.AxesSubplot object at 0x1a1d6fa9b0>,\n",
       "        <matplotlib.axes._subplots.AxesSubplot object at 0x1a1d71fda0>,\n",
       "        <matplotlib.axes._subplots.AxesSubplot object at 0x1a1d757cc0>],\n",
       "       [<matplotlib.axes._subplots.AxesSubplot object at 0x1a1d79b160>,\n",
       "        <matplotlib.axes._subplots.AxesSubplot object at 0x1a1d7d7160>,\n",
       "        <matplotlib.axes._subplots.AxesSubplot object at 0x1a1d77dc50>,\n",
       "        <matplotlib.axes._subplots.AxesSubplot object at 0x1a1d836860>,\n",
       "        <matplotlib.axes._subplots.AxesSubplot object at 0x1a1d871cc0>,\n",
       "        <matplotlib.axes._subplots.AxesSubplot object at 0x1a1d8abcc0>,\n",
       "        <matplotlib.axes._subplots.AxesSubplot object at 0x1a1d8e5be0>,\n",
       "        <matplotlib.axes._subplots.AxesSubplot object at 0x1a1d918320>,\n",
       "        <matplotlib.axes._subplots.AxesSubplot object at 0x1a1d9522b0>,\n",
       "        <matplotlib.axes._subplots.AxesSubplot object at 0x1a1d98d2b0>,\n",
       "        <matplotlib.axes._subplots.AxesSubplot object at 0x1a1d9c6710>,\n",
       "        <matplotlib.axes._subplots.AxesSubplot object at 0x1a1d9e5438>,\n",
       "        <matplotlib.axes._subplots.AxesSubplot object at 0x1a1da2ac50>],\n",
       "       [<matplotlib.axes._subplots.AxesSubplot object at 0x1a1da62cc0>,\n",
       "        <matplotlib.axes._subplots.AxesSubplot object at 0x1a1da9ccc0>,\n",
       "        <matplotlib.axes._subplots.AxesSubplot object at 0x1a1db20c50>,\n",
       "        <matplotlib.axes._subplots.AxesSubplot object at 0x1a1db557f0>,\n",
       "        <matplotlib.axes._subplots.AxesSubplot object at 0x1a1db8d860>,\n",
       "        <matplotlib.axes._subplots.AxesSubplot object at 0x1a1dbc8780>,\n",
       "        <matplotlib.axes._subplots.AxesSubplot object at 0x1a1dc026a0>,\n",
       "        <matplotlib.axes._subplots.AxesSubplot object at 0x1a1dc29f60>,\n",
       "        <matplotlib.axes._subplots.AxesSubplot object at 0x1a1dc63f60>,\n",
       "        <matplotlib.axes._subplots.AxesSubplot object at 0x1a1dc9efd0>,\n",
       "        <matplotlib.axes._subplots.AxesSubplot object at 0x1a1dcdafd0>,\n",
       "        <matplotlib.axes._subplots.AxesSubplot object at 0x1a1dd14f60>,\n",
       "        <matplotlib.axes._subplots.AxesSubplot object at 0x1a1dd45a90>],\n",
       "       [<matplotlib.axes._subplots.AxesSubplot object at 0x1a1dd7db00>,\n",
       "        <matplotlib.axes._subplots.AxesSubplot object at 0x1a1ddbca20>,\n",
       "        <matplotlib.axes._subplots.AxesSubplot object at 0x1a1ddf7a20>,\n",
       "        <matplotlib.axes._subplots.AxesSubplot object at 0x1a1de2a780>,\n",
       "        <matplotlib.axes._subplots.AxesSubplot object at 0x1a1de627f0>,\n",
       "        <matplotlib.axes._subplots.AxesSubplot object at 0x1a1de9c710>,\n",
       "        <matplotlib.axes._subplots.AxesSubplot object at 0x1a1ded6710>,\n",
       "        <matplotlib.axes._subplots.AxesSubplot object at 0x1a1dea6438>,\n",
       "        <matplotlib.axes._subplots.AxesSubplot object at 0x1a1df44390>,\n",
       "        <matplotlib.axes._subplots.AxesSubplot object at 0x1a1df80390>,\n",
       "        <matplotlib.axes._subplots.AxesSubplot object at 0x1a1dfb72b0>,\n",
       "        <matplotlib.axes._subplots.AxesSubplot object at 0x1a1dff07f0>,\n",
       "        <matplotlib.axes._subplots.AxesSubplot object at 0x1a1e019e10>],\n",
       "       [<matplotlib.axes._subplots.AxesSubplot object at 0x1a1e053e10>,\n",
       "        <matplotlib.axes._subplots.AxesSubplot object at 0x1a1e089e10>,\n",
       "        <matplotlib.axes._subplots.AxesSubplot object at 0x1a1e0d0390>,\n",
       "        <matplotlib.axes._subplots.AxesSubplot object at 0x1a1e0f6780>,\n",
       "        <matplotlib.axes._subplots.AxesSubplot object at 0x1a1e1346a0>,\n",
       "        <matplotlib.axes._subplots.AxesSubplot object at 0x1a1e16f6a0>,\n",
       "        <matplotlib.axes._subplots.AxesSubplot object at 0x1a1e1a7b70>,\n",
       "        <matplotlib.axes._subplots.AxesSubplot object at 0x1a1e1b49e8>,\n",
       "        <matplotlib.axes._subplots.AxesSubplot object at 0x1a1e219240>,\n",
       "        <matplotlib.axes._subplots.AxesSubplot object at 0x1a1e251240>,\n",
       "        <matplotlib.axes._subplots.AxesSubplot object at 0x1a1e28a780>,\n",
       "        <matplotlib.axes._subplots.AxesSubplot object at 0x1a1e2c1780>,\n",
       "        <matplotlib.axes._subplots.AxesSubplot object at 0x1a1e2eebe0>],\n",
       "       [<matplotlib.axes._subplots.AxesSubplot object at 0x1a1e326b70>,\n",
       "        <matplotlib.axes._subplots.AxesSubplot object at 0x1a1e360b70>,\n",
       "        <matplotlib.axes._subplots.AxesSubplot object at 0x1a1e39ca90>,\n",
       "        <matplotlib.axes._subplots.AxesSubplot object at 0x1a1e33fef0>,\n",
       "        <matplotlib.axes._subplots.AxesSubplot object at 0x1a1e4097f0>,\n",
       "        <matplotlib.axes._subplots.AxesSubplot object at 0x1a1e4427f0>,\n",
       "        <matplotlib.axes._subplots.AxesSubplot object at 0x1a1e47b780>,\n",
       "        <matplotlib.axes._subplots.AxesSubplot object at 0x1a1e4b5cc0>,\n",
       "        <matplotlib.axes._subplots.AxesSubplot object at 0x1a1e4d54e0>,\n",
       "        <matplotlib.axes._subplots.AxesSubplot object at 0x1a1e5154e0>,\n",
       "        <matplotlib.axes._subplots.AxesSubplot object at 0x1a1e54e400>,\n",
       "        <matplotlib.axes._subplots.AxesSubplot object at 0x1a1e588400>,\n",
       "        <matplotlib.axes._subplots.AxesSubplot object at 0x1a1e559cf8>],\n",
       "       [<matplotlib.axes._subplots.AxesSubplot object at 0x1a1e5f2080>,\n",
       "        <matplotlib.axes._subplots.AxesSubplot object at 0x1a1e62f080>,\n",
       "        <matplotlib.axes._subplots.AxesSubplot object at 0x1a1e65bf60>,\n",
       "        <matplotlib.axes._subplots.AxesSubplot object at 0x1a1e6a34e0>,\n",
       "        <matplotlib.axes._subplots.AxesSubplot object at 0x1a1e6cba90>,\n",
       "        <matplotlib.axes._subplots.AxesSubplot object at 0x1a1e7079b0>,\n",
       "        <matplotlib.axes._subplots.AxesSubplot object at 0x1a1e7409b0>,\n",
       "        <matplotlib.axes._subplots.AxesSubplot object at 0x1a1e777ef0>,\n",
       "        <matplotlib.axes._subplots.AxesSubplot object at 0x1a1e7af400>,\n",
       "        <matplotlib.axes._subplots.AxesSubplot object at 0x1a1e7e8390>,\n",
       "        <matplotlib.axes._subplots.AxesSubplot object at 0x1a1e823390>,\n",
       "        <matplotlib.axes._subplots.AxesSubplot object at 0x1a1e8588d0>,\n",
       "        <matplotlib.axes._subplots.AxesSubplot object at 0x1a1e864c18>],\n",
       "       [<matplotlib.axes._subplots.AxesSubplot object at 0x1a1e8bee80>,\n",
       "        <matplotlib.axes._subplots.AxesSubplot object at 0x1a1e8f5e80>,\n",
       "        <matplotlib.axes._subplots.AxesSubplot object at 0x1a1e93b400>,\n",
       "        <matplotlib.axes._subplots.AxesSubplot object at 0x1a1e974400>,\n",
       "        <matplotlib.axes._subplots.AxesSubplot object at 0x1a1e99f860>,\n",
       "        <matplotlib.axes._subplots.AxesSubplot object at 0x1a1e9d97f0>,\n",
       "        <matplotlib.axes._subplots.AxesSubplot object at 0x1a1ea137f0>,\n",
       "        <matplotlib.axes._subplots.AxesSubplot object at 0x1a1ea4e780>,\n",
       "        <matplotlib.axes._subplots.AxesSubplot object at 0x1a1e9ff668>,\n",
       "        <matplotlib.axes._subplots.AxesSubplot object at 0x1a1eaba470>,\n",
       "        <matplotlib.axes._subplots.AxesSubplot object at 0x1a1eaf4470>,\n",
       "        <matplotlib.axes._subplots.AxesSubplot object at 0x1a1eb2e390>,\n",
       "        <matplotlib.axes._subplots.AxesSubplot object at 0x1a1eb678d0>]],\n",
       "      dtype=object)"
      ]
     },
     "execution_count": 37,
     "metadata": {},
     "output_type": "execute_result"
    },
    {
     "data": {
      "image/png": "[encoded data removed]",
      "text/plain": [
       "<matplotlib.figure.Figure at 0x1a1c592e48>"
      ]
     },
     "metadata": {},
     "output_type": "display_data"
    }
   ],
   "source": [
    "scatter_matrix(df_esg_clean)"
   ]
  },
  {
   "cell_type": "code",
   "execution_count": null,
   "metadata": {},
   "outputs": [],
   "source": []
  },
  {
   "cell_type": "code",
   "execution_count": null,
   "metadata": {},
   "outputs": [],
   "source": []
  }
 ],
 "metadata": {
  "kernelspec": {
   "display_name": "Python 3",
   "language": "python",
   "name": "python3"
  },
  "language_info": {
   "codemirror_mode": {
    "name": "ipython",
    "version": 3
   },
   "file_extension": ".py",
   "mimetype": "text/x-python",
   "name": "python",
   "nbconvert_exporter": "python",
   "pygments_lexer": "ipython3",
   "version": "3.6.4"
  }
 },
 "nbformat": 4,
 "nbformat_minor": 2
}
